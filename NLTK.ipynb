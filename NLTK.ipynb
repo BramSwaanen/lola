{
 "cells": [
  {
   "cell_type": "code",
   "execution_count": 1,
   "metadata": {},
   "outputs": [],
   "source": [
    "import json\n",
    "with open(\"sample_data.json\",\"r\") as inputfile:\n",
    "    sample_data = json.load(inputfile)"
   ]
  },
  {
   "cell_type": "code",
   "execution_count": 2,
   "metadata": {},
   "outputs": [
    {
     "name": "stdout",
     "output_type": "stream",
     "text": [
      "***sick***\n",
      "A tan dog is playing in the water on the bank of a pond || ∀x∀y∀z (TanDog(x) ∧ Water(y) ∧ Pond(z) → PlaysIn(x, y, z))\n",
      "Some water is being drunk by a cat || ∃x∃y (Water(x) ∧ Cat(y) ∧ Drinking(y, x))\n",
      "A person is playing a keyboard || ∀x (Person(x) ∧ PlayingKeyboard(x))\n",
      "The man is sitting outdoors under a purple umbrella || ∃x (Man(x) ∧ Sitting(x) ∧ Outdoors(x) ∧ Under(x, purple_umbrella))\n",
      "A man with no shirt is holding a football || ∀x (Man(x) ∧ ¬HasShirt(x) → HoldingFootball(x))\n",
      "There is no person in bike gear standing steadily in front of the mountains || ¬∃x (Person(x) ∧ InBikeGear(x) ∧ StandingSteadilyInFrontOf(x, mountains))\n",
      "A woman is slicing a tomato || ∃x (Woman(x) ∧ Slicing(x, tomato))\n",
      "A few people are singing || ∃x∃y∃z (Person(x) ∧ Person(y) ∧ Person(z) ∧ Singing(x) ∧ Singing(y) ∧ Singing(z))\n",
      "The surfer is riding a big wave || ∃x ∃y (Surfer(x) ∧ Wave(y) ∧ Riding(x, y))\n",
      "Two dogs and two people are walking in a wood || ∃x ∃y ∃z ∃w (Dog(x) ∧ Dog(y) ∧ Person(z) ∧ Person(w) ∧ WalkingInWood(x, y, z, w))\n",
      "A man is singing into a microphone || ∃x ∃y (Man(x) ∧ Microphone(y) ∧ SingingInto(x, y))\n",
      "Two people are kickboxing and spectators are not watching || ∀x∀y (Person(x) ∧ Person(y) ∧ Kickboxing(x) → ¬Spectator(y))\n",
      "A woman is cutting an onion || ∃x (Woman(x) ∧ CuttingOnion(x))\n",
      "The play is about a happy boy playing the piano || ∀x (Play(x) → (HappyBoy(x) ∧ PlaysPiano(x)))\n",
      "A person is cutting an onion || ∃x (Person(x) ∧ CuttingOnion(x))\n",
      "***fracas***\n",
      "Bug # 32-985 was blamed for the system failure. || ∃x (Bug(x) ∧ SystemFailure(y) ∧ BlamedFor(x, y))\n",
      "The PC-6082 is as fast as the ITEL-XZ. The PC-6082 is slow. || ∀x ∀y (PC6082(x) ∧ ITELXZ(y) → (Fast(x) ∧ Fast(y) ∧ Slow(x)))\n",
      "An Irishman won a Nobel prize. || ∃x (Irishman(x) ∧ WonNobelPrize(x))\n",
      "Last week I already knew that when, in a month's time, Smith would discover that she had been duped she would be furious. || ∀x (LastWeek(x) ∧ MonthsTime(x) ∧ Smith(x) ∧ DiscoveredDuped(x) → Furious(x))\n",
      "Bill suggested to Frank's boss that they should go to the meeting together, and Carl to Alan's wife. || ∀x∀y∀z (Bill(x) ∧ Frank(y) ∧ Alan(z) → (SuggestedTo(x, y, z) ∧ ¬SuggestedTo(x, z, y)))\n",
      "The ITEL-XZ is fast. || Fast(ITELXZ)\n",
      "Mary used her workstation. || UsedWorkstation(mary)\n",
      "Bill owns a slow red car. || ∃x (Car(x) ∧ Owns(bill, x) ∧ Slow(x) ∧ Red(x))\n",
      "Bill went to Berlin by car. || WentTo(Bill, Berlin, Car)\n",
      "Everyone at the meeting voted for a new chairman. || ∀x (PersonAtMeeting(x) → VotedForNewChairman(x))\n",
      "Every representative was at the meeting. || ∀x (Representative(x) → ∃y (Meeting(y) ∧ Attended(x, y)))\n",
      "Most Europeans are resident in Europe. || ∀x (European(x) → ResidentIn(x, Europe))\n",
      "ITEL has sent most of the reports Smith needs. They are on her desk. || ∀x∀y (ITEL(x) ∧ Smith(y) ∧ NeedsReports(y) → SentReports(x, y))\n",
      "John owns a red car. Bill owns a fast one. || ∀x ∀y (John(x) ∧ Owns(x, RedCar) ∧ Bill(y) ∧ Owns(y, FastCar))\n",
      "Bill bought a car. || ∃x ∃y (Bill(x) ∧ Car(y) ∧ Bought(x, y))\n",
      "***hans***\n",
      "The author admired the doctors . || ∀x∀y (Author(x) ∧ Doctor(y) → Admired(x, y))\n",
      "The lawyer presented in the library shouted . || ∃x (Lawyer(x) ∧ PresentedInLibrary(x) ∧ Shouted(x))\n",
      "The student that the doctors recognized recommended the tourists . || ∀x∀y∀z (Student(x) ∧ Doctor(y) ∧ Tourist(z) ∧ Recognized(y, x) → Recommended(y, z))\n",
      "The senator resigned . || Resigned(Senator)\n",
      "If the presidents recognized the professor , the secretaries saw the judges . || ∀x∀y∀z (President(x) ∧ Professor(y) ∧ Judge(z) ∧ Recognized(x, y) → Saw(x, z))\n",
      "The lawyer recommended the judges who encouraged the scientists . || ∀x∀y∀z (Lawyer(x) ∧ Judge(y) ∧ Scientist(z) ∧ Encourages(y, z) → Recommends(x, y))\n",
      "The banker encouraged the judge . || ∀x∀y (Banker(x) ∧ Judge(y) → Encouraged(x, y))\n",
      "The student by the professor resigned . || ∃x ∃y (Student(x) ∧ Professor(y) ∧ Resigned(x, y))\n",
      "The athletes who thanked the author encouraged the bankers . || ∀x∀y∀z (Athlete(x) ∧ Author(y) ∧ Banker(z) ∧ Thanked(x, y) → Encourages(x, z))\n",
      "The doctor who the judge admired introduced the bankers . || ∀x∀y∀z (Doctor(x) ∧ Judge(y) ∧ Banker(z) ∧ Admired(y, x) → Introduced(x, z))\n",
      "The scientists introduced the judges . || ∀x∀y (Scientist(x) ∧ Judge(y) → Introduced(x, y))\n",
      "The athletes admired the scientist . || ∀x∀y (Athlete(x) ∧ Scientist(y) → Admires(x, y))\n",
      "Hopefully the athlete supported the students . || ∀x∀y (Athlete(x) ∧ Student(y) → Supported(x, y))\n",
      "Though the athletes avoided the senator , the judges slept . || ∀x∀y∀z (Athlete(x) ∧ Senator(y) ∧ Judge(z) → (Avoids(x, y) ∧ Sleeps(z)))\n",
      "The judges believed the athletes recognized the tourists . || ∀x∀y∀z (Judge(x) ∧ Athlete(y) ∧ Tourist(z) → BelievedRecognized(x, y, z))\n",
      "***syllogisms***\n",
      "No engineers are logicians || ¬∃x (Engineer(x) ∧ Logician(x))\n",
      "No logicians are engineers || ¬∃x (Logician(x) ∧ Engineer(x))\n",
      "Some logicians are non engineers || ∃x (Logician(x) ∧ ¬Engineer(x))\n",
      "All engineers are logicians || ∀x (Engineer(x) → Logician(x))\n",
      "Some engineers are logicians || ∃x (Engineer(x) ∧ Logician(x))\n",
      "Some logicians are engineers || ∃x (Logician(x) ∧ Engineer(x))\n",
      "All logicians are engineers || ∀x (Logician(x) → Engineer(x))\n"
     ]
    }
   ],
   "source": [
    "for dataset in sample_data.keys():\n",
    "    print(f\"***{dataset}***\")\n",
    "    for k, v in sample_data[dataset].items():\n",
    "        print(k,\"||\", v)"
   ]
  },
  {
   "cell_type": "code",
   "execution_count": 3,
   "metadata": {},
   "outputs": [],
   "source": [
    "# Imports \n",
    "import re\n",
    "from nltk.sem.logic import Expression, Variable "
   ]
  },
  {
   "cell_type": "code",
   "execution_count": 4,
   "metadata": {},
   "outputs": [],
   "source": [
    "# Convert FOL with classic symbols to NLTK readable FOL \n",
    "def fol2nltk(s:str) -> str:\n",
    "        s = re.sub('∧', '&', s)\n",
    "        s = re.sub('∃(\\S\\d*)', 'exists \\\\1.', s) #counts all chars after quantifier until there is white space as the var  \n",
    "        s = re.sub('∀(\\S\\d*)', 'all \\\\1.', s)\n",
    "        s = re.sub('→', '->', s)\n",
    "        s = re.sub('¬', 'not ', s)\n",
    "        return s "
   ]
  },
  {
   "cell_type": "code",
   "execution_count": 5,
   "metadata": {},
   "outputs": [
    {
     "name": "stdout",
     "output_type": "stream",
     "text": [
      "all x. (Person(x) & PlayingKeyboard(x))\n"
     ]
    }
   ],
   "source": [
    "# Get a test sentence from the sample data set \n",
    "test_sent = sample_data['sick']['A person is playing a keyboard']\n",
    "test_sent = fol2nltk(test_sent)\n",
    "print(test_sent)"
   ]
  },
  {
   "cell_type": "code",
   "execution_count": 6,
   "metadata": {},
   "outputs": [],
   "source": [
    "# read string of expression into NLTK \n",
    "#! Expression.fromstring errors when:\n",
    "    # unmatched brackets, \n",
    "    # var is not of form \"letter(+any number)\"\n",
    " \n",
    "# test_expr = Expression.fromstring(test_sent) #option with expression from sample data set \n",
    "test_expr = Expression.fromstring('exists x. all y. (Red(c) & (Blue(x)) | House(y))') #option with custom expression \n"
   ]
  },
  {
   "cell_type": "code",
   "execution_count": 7,
   "metadata": {},
   "outputs": [
    {
     "data": {
      "text/plain": [
       "<ExistsExpression exists x.all y.((Red(c) & Blue(x)) | House(y))>"
      ]
     },
     "execution_count": 7,
     "metadata": {},
     "output_type": "execute_result"
    }
   ],
   "source": [
    "test_expr"
   ]
  },
  {
   "cell_type": "code",
   "execution_count": 8,
   "metadata": {},
   "outputs": [
    {
     "name": "stdout",
     "output_type": "stream",
     "text": [
      "<class 'nltk.sem.logic.ExistsExpression'>\n",
      "['__and__', '__call__', '__class__', '__delattr__', '__dict__', '__dir__', '__doc__', '__eq__', '__format__', '__ge__', '__getattribute__', '__getstate__', '__gt__', '__hash__', '__init__', '__init_subclass__', '__le__', '__lt__', '__module__', '__ne__', '__neg__', '__new__', '__or__', '__reduce__', '__reduce_ex__', '__repr__', '__setattr__', '__sizeof__', '__str__', '__subclasshook__', '__weakref__', '_logic_parser', '_set_type', '_type_checking_logic_parser', 'alpha_convert', 'applyto', 'constants', 'equiv', 'findtype', 'free', 'fromstring', 'getQuantifier', 'make_VariableExpression', 'negate', 'normalize', 'predicates', 'replace', 'simplify', 'substitute_bindings', 'term', 'type', 'typecheck', 'variable', 'variables', 'visit', 'visit_structured']\n"
     ]
    }
   ],
   "source": [
    "# info about expression object \n",
    "print(type(test_expr))\n",
    "print(dir(test_expr))"
   ]
  },
  {
   "cell_type": "code",
   "execution_count": 9,
   "metadata": {},
   "outputs": [
    {
     "name": "stdout",
     "output_type": "stream",
     "text": [
      "************ applyto ************\n",
      "Help on function applyto in nltk.sem.logic.Expression:\n",
      "\n",
      "nltk.sem.logic.Expression.applyto = applyto(self, other)\n",
      "\n",
      "************ constants ************\n",
      "Help on function constants in nltk.sem.logic.Expression:\n",
      "\n",
      "nltk.sem.logic.Expression.constants = constants(self)\n",
      "    Return a set of individual constants (non-predicates).\n",
      "    :return: set of ``Variable`` objects\n",
      "\n",
      "************ equiv ************\n",
      "Help on function equiv in nltk.sem.logic.Expression:\n",
      "\n",
      "nltk.sem.logic.Expression.equiv = equiv(self, other, prover=None)\n",
      "    Check for logical equivalence.\n",
      "    Pass the expression (self <-> other) to the theorem prover.\n",
      "    If the prover says it is valid, then the self and other are equal.\n",
      "    \n",
      "    :param other: an ``Expression`` to check equality against\n",
      "    :param prover: a ``nltk.inference.api.Prover``\n",
      "\n",
      "************ findtype ************\n",
      "Help on function findtype in nltk.sem.logic.Expression:\n",
      "\n",
      "nltk.sem.logic.Expression.findtype = findtype(self, variable)\n",
      "    Find the type of the given variable as it is used in this expression.\n",
      "    For example, finding the type of \"P\" in \"P(x) & Q(x,y)\" yields \"<e,t>\"\n",
      "    \n",
      "    :param variable: Variable\n",
      "\n",
      "************ free ************\n",
      "Help on function free in nltk.sem.logic.Expression:\n",
      "\n",
      "nltk.sem.logic.Expression.free = free(self)\n",
      "    Return a set of all the free (non-bound) variables.  This includes\n",
      "    both individual and predicate variables, but not constants.\n",
      "    :return: set of ``Variable`` objects\n",
      "\n",
      "************ fromstring ************\n",
      "Help on method fromstring in nltk.sem.logic.Expression:\n",
      "\n",
      "nltk.sem.logic.Expression.fromstring = fromstring(s, type_check=False, signature=None) method of builtins.type instance\n",
      "\n",
      "************ make_VariableExpression ************\n",
      "Help on function make_VariableExpression in nltk.sem.logic.Expression:\n",
      "\n",
      "nltk.sem.logic.Expression.make_VariableExpression = make_VariableExpression(self, variable)\n",
      "\n",
      "************ negate ************\n",
      "Help on function negate in nltk.sem.logic.Expression:\n",
      "\n",
      "nltk.sem.logic.Expression.negate = negate(self)\n",
      "    If this is a negated expression, remove the negation.\n",
      "    Otherwise add a negation.\n",
      "\n",
      "************ normalize ************\n",
      "Help on function normalize in nltk.sem.logic.Expression:\n",
      "\n",
      "nltk.sem.logic.Expression.normalize = normalize(self, newvars=None)\n",
      "    Rename auto-generated unique variables\n",
      "\n",
      "************ predicates ************\n",
      "Help on function predicates in nltk.sem.logic.Expression:\n",
      "\n",
      "nltk.sem.logic.Expression.predicates = predicates(self)\n",
      "    Return a set of predicates (constants, not variables).\n",
      "    :return: set of ``Variable`` objects\n",
      "\n",
      "************ replace ************\n",
      "Help on function replace in nltk.sem.logic.Expression:\n",
      "\n",
      "nltk.sem.logic.Expression.replace = replace(self, variable, expression, replace_bound=False, alpha_convert=True)\n",
      "    Replace every instance of 'variable' with 'expression'\n",
      "    :param variable: ``Variable`` The variable to replace\n",
      "    :param expression: ``Expression`` The expression with which to replace it\n",
      "    :param replace_bound: bool Should bound variables be replaced?\n",
      "    :param alpha_convert: bool Alpha convert automatically to avoid name clashes?\n",
      "\n",
      "************ simplify ************\n",
      "Help on function simplify in nltk.sem.logic.Expression:\n",
      "\n",
      "nltk.sem.logic.Expression.simplify = simplify(self)\n",
      "    :return: beta-converted version of this expression\n",
      "\n",
      "************ substitute_bindings ************\n",
      "Help on function substitute_bindings in nltk.sem.logic.Expression:\n",
      "\n",
      "nltk.sem.logic.Expression.substitute_bindings = substitute_bindings(self, bindings)\n",
      "    :return: The object that is obtained by replacing\n",
      "        each variable bound by ``bindings`` with its values.\n",
      "        Aliases are already resolved. (maybe?)\n",
      "    :rtype: (any)\n",
      "\n",
      "************ typecheck ************\n",
      "Help on function typecheck in nltk.sem.logic.Expression:\n",
      "\n",
      "nltk.sem.logic.Expression.typecheck = typecheck(self, signature=None)\n",
      "    Infer and check types.  Raise exceptions if necessary.\n",
      "    \n",
      "    :param signature: dict that maps variable names to types (or string\n",
      "        representations of types)\n",
      "    :return: the signature, plus any additional type mappings\n",
      "\n",
      "************ variables ************\n",
      "Help on function variables in nltk.sem.logic.Expression:\n",
      "\n",
      "nltk.sem.logic.Expression.variables = variables(self)\n",
      "    Return a set of all the variables for binding substitution.\n",
      "    The variables returned include all free (non-bound) individual\n",
      "    variables and any variable starting with '?' or '@'.\n",
      "    :return: set of ``Variable`` objects\n",
      "\n",
      "************ visit ************\n",
      "Help on function visit in nltk.sem.logic.Expression:\n",
      "\n",
      "nltk.sem.logic.Expression.visit = visit(self, function, combinator)\n",
      "    Recursively visit subexpressions.  Apply 'function' to each\n",
      "    subexpression and pass the result of each function application\n",
      "    to the 'combinator' for aggregation:\n",
      "    \n",
      "        return combinator(map(function, self.subexpressions))\n",
      "    \n",
      "    Bound variables are neither applied upon by the function nor given to\n",
      "    the combinator.\n",
      "    :param function: ``Function<Expression,T>`` to call on each subexpression\n",
      "    :param combinator: ``Function<list<T>,R>`` to combine the results of the\n",
      "    function calls\n",
      "    :return: result of combination ``R``\n",
      "\n",
      "************ visit_structured ************\n",
      "Help on function visit_structured in nltk.sem.logic.Expression:\n",
      "\n",
      "nltk.sem.logic.Expression.visit_structured = visit_structured(self, function, combinator)\n",
      "    Recursively visit subexpressions.  Apply 'function' to each\n",
      "    subexpression and pass the result of each function application\n",
      "    to the 'combinator' for aggregation.  The combinator must have\n",
      "    the same signature as the constructor.  The function is not\n",
      "    applied to bound variables, but they are passed to the\n",
      "    combinator.\n",
      "    :param function: ``Function`` to call on each subexpression\n",
      "    :param combinator: ``Function`` with the same signature as the\n",
      "    constructor, to combine the results of the function calls\n",
      "    :return: result of combination\n",
      "\n"
     ]
    }
   ],
   "source": [
    "#Get some documentation of available functions of an expressions object \n",
    "for func in dir(Expression):\n",
    "    if not func.startswith('_'):\n",
    "        print(f\"************ {func} ************\")\n",
    "        help('nltk.sem.logic.Expression.' + func)\n",
    "        "
   ]
  },
  {
   "cell_type": "code",
   "execution_count": 10,
   "metadata": {},
   "outputs": [
    {
     "name": "stdout",
     "output_type": "stream",
     "text": [
      "free variables in \"exists x.all y.((Red(c) & Blue(x)) | House(y))\": {Variable('c')}\n",
      "\n",
      "quantifiers in \"exists x.all y.((Red(c) & Blue(x)) | House(y))\": exists\n",
      "\n",
      "Constants in \"exists x.all y.((Red(c) & Blue(x)) | House(y))\": set()\n",
      "\n",
      "Predicates in \"exists x.all y.((Red(c) & Blue(x)) | House(y))\": {Variable('Red'), Variable('House'), Variable('Blue')}\n"
     ]
    }
   ],
   "source": [
    "# Get info on an expression \n",
    "\n",
    "#get all free variables as set of nltk.sem.logic.Variable objects \n",
    "free_vars = test_expr.free()\n",
    "print(f'free variables in \"{test_expr}\": {free_vars}')\n",
    "print()\n",
    "\n",
    "# Get main(?) quantifier\n",
    "quantifiers = test_expr.getQuantifier()\n",
    "print(f'quantifiers in \"{test_expr}\": {quantifiers}')\n",
    "print()\n",
    "\n",
    "# Get all constants as set of nltk.sem.logic.Variable objects \n",
    "constants = test_expr.constants()\n",
    "print(f'Constants in \"{test_expr}\": {constants}')\n",
    "print()\n",
    "\n",
    "# Get all predicates as set of nltk.sem.logic.Variable objects \n",
    "predicates = test_expr.predicates()\n",
    "print(f'Predicates in \"{test_expr}\": {predicates}')"
   ]
  },
  {
   "cell_type": "code",
   "execution_count": 11,
   "metadata": {},
   "outputs": [
    {
     "name": "stdout",
     "output_type": "stream",
     "text": [
      "4\n"
     ]
    }
   ],
   "source": [
    "if free_vars:\n",
    "    print(4)"
   ]
  },
  {
   "cell_type": "code",
   "execution_count": 12,
   "metadata": {},
   "outputs": [
    {
     "name": "stdout",
     "output_type": "stream",
     "text": [
      "Changed \"exists x.all y.((Red(c) & Blue(x)) | House(y))\" to \"exists x.all y.((Blue(c) & Blue(x)) | House(y))\"\n"
     ]
    }
   ],
   "source": [
    "# Replace predicates (and more?) in an expression \n",
    "old_pred = Variable('Red')\n",
    "new_pred = Expression.fromstring('Blue')\n",
    "new_test_expr = test_expr.replace(old_pred, new_pred)\n",
    "print(f'Changed \"{test_expr}\" to \"{new_test_expr}\"')"
   ]
  },
  {
   "cell_type": "code",
   "execution_count": 13,
   "metadata": {},
   "outputs": [
    {
     "name": "stdout",
     "output_type": "stream",
     "text": [
      "{Variable('c')}\n",
      "Changed \"exists x.all y.((Red(c) & Blue(x)) | House(y))\" to \"exists x.all y.((Red(c) & Blue(x)) | House(y))\"\n"
     ]
    }
   ],
   "source": [
    "#Replace names of FREE variables \n",
    "bindings = {\n",
    "    Variable('x'): Expression.fromstring('a'),\n",
    "    Variable('y'): Expression.fromstring('b'),\n",
    "    Variable('z'): Expression.fromstring('c')\n",
    "}\n",
    "print(test_expr.variables())\n",
    "new_test_expr2 = test_expr.substitute_bindings(bindings)\n",
    "print(f'Changed \"{test_expr}\" to \"{new_test_expr2}\"')"
   ]
  },
  {
   "cell_type": "code",
   "execution_count": 14,
   "metadata": {},
   "outputs": [
    {
     "name": "stdout",
     "output_type": "stream",
     "text": [
      "The et types of the expression exists x.all y.((Red(c) & Blue(x)) | House(y)) are: {'c': e, 'Red': <e,t>, 'x': e, 'Blue': <e,t>, 'y': e, 'House': <e,t>}\n",
      "The et type of Red in the expression exists x.all y.((Red(c) & Blue(x)) | House(y)) is: <e,t>\n"
     ]
    }
   ],
   "source": [
    "# Get et types of the sentence \n",
    "\n",
    "#all et types returnd as: dict{'word': et-type}\n",
    "et_types = test_expr.typecheck()\n",
    "print(f\"The et types of the expression {test_expr} are: {et_types}\")\n",
    "\n",
    "# get et-type of specific variable \n",
    "var = Variable('Red')\n",
    "et_type_var = test_expr.findtype(var)\n",
    "print(f\"The et type of {var} in the expression {test_expr} is: {et_type_var}\")"
   ]
  },
  {
   "cell_type": "code",
   "execution_count": 15,
   "metadata": {},
   "outputs": [
    {
     "name": "stdout",
     "output_type": "stream",
     "text": [
      "{'TanDog', 'Man', 'Kickboxing', 'HoldingFootball', 'Play', 'Under', 'SingingInto', 'Singing', 'InBikeGear', 'Cat', 'Sitting', 'PlaysPiano', 'Surfer', 'StandingSteadilyInFrontOf', 'HasShirt', 'WalkingInWood', 'PlaysIn', 'Outdoors', 'HappyBoy', 'CuttingOnion', 'Dog', 'Pond', 'PlayingKeyboard', 'Water', 'Slicing', 'Microphone', 'Person', 'Riding', 'Wave', 'Drinking', 'Woman', 'Spectator'}\n"
     ]
    }
   ],
   "source": [
    "#Get all predicates in a specific data set\n",
    "\n",
    "all_predicates = []\n",
    "for item in sample_data['sick'].values():\n",
    "    expression = Expression.fromstring(fol2nltk(item))\n",
    "    predicates = [str(p) for p in list(expression.predicates())]\n",
    "    # print(predicates)\n",
    "    all_predicates = all_predicates + predicates\n",
    "    # print(all_predicates)\n",
    "all_predicates = set(all_predicates) \n",
    "print(all_predicates)\n"
   ]
  },
  {
   "cell_type": "code",
   "execution_count": 16,
   "metadata": {},
   "outputs": [
    {
     "name": "stdout",
     "output_type": "stream",
     "text": [
      "['Tan', 'Dog', 'Man', 'Kickboxing', 'Holding', 'Football', 'Play', 'Under', 'Singing', 'Into', 'Singing', 'In', 'BikeGear', 'Cat', 'Sitting', 'Plays', 'Piano', 'Surfer', 'Standing', 'SteadilyInFrontOf', 'Has', 'Shirt', 'Walking', 'InWood', 'Plays', 'In', 'Outdoors', 'Happy', 'Boy', 'Cutting', 'Onion', 'Dog', 'Pond', 'Playing', 'Keyboard', 'Water', 'Slicing', 'Microphone', 'Person', 'Riding', 'Wave', 'Drinking', 'Woman', 'Spectator']\n"
     ]
    }
   ],
   "source": [
    "#split predicates into first word + the rest \n",
    "new_predicates = []\n",
    "for p in all_predicates:\n",
    "    parts = re.findall('[A-Z][^A-Z]*', p)\n",
    "    split_p = [parts[0]]\n",
    "    if len(parts) > 1:\n",
    "        second_pred =\"\"\n",
    "        for part in parts[1:]:\n",
    "            second_pred = second_pred + part \n",
    "        split_p.append(second_pred)\n",
    "    new_predicates += split_p\n",
    "print(new_predicates)\n",
    "\n",
    "# test_expr = Expression.fromstring('exist x. HoldingFootball(x)')\n",
    "# old_pred = Variable('HoldingFootball')\n",
    "# new_pred = Expression.fromstring('Holding(x, y) & Football(y)')\n",
    "# new_test_expr = test_expr.replace(old_pred, new_pred)\n",
    "# print(f'Changed \"{test_expr}\" to \"{new_test_expr}\"')"
   ]
  },
  {
   "cell_type": "code",
   "execution_count": 17,
   "metadata": {},
   "outputs": [
    {
     "name": "stdout",
     "output_type": "stream",
     "text": [
      "['Holding', ['Football', 'Blue']]\n"
     ]
    }
   ],
   "source": [
    "# split predicates \n",
    "result = re.findall('[A-Z][^A-Z]*', 'HoldingFootballBlue')\n",
    "result = [result[0], result[1:]]\n",
    "print(result)"
   ]
  },
  {
   "cell_type": "markdown",
   "metadata": {},
   "source": [
    "**Evaluate wrongly classified**"
   ]
  },
  {
   "cell_type": "code",
   "execution_count": 18,
   "metadata": {},
   "outputs": [],
   "source": [
    "import pandas as pd\n",
    "from evaluation import get_wrong_items, get_fol_expressions, get_free_vars"
   ]
  },
  {
   "cell_type": "code",
   "execution_count": 19,
   "metadata": {},
   "outputs": [
    {
     "data": {
      "text/html": [
       "<div>\n",
       "<style scoped>\n",
       "    .dataframe tbody tr th:only-of-type {\n",
       "        vertical-align: middle;\n",
       "    }\n",
       "\n",
       "    .dataframe tbody tr th {\n",
       "        vertical-align: top;\n",
       "    }\n",
       "\n",
       "    .dataframe thead th {\n",
       "        text-align: right;\n",
       "    }\n",
       "</style>\n",
       "<table border=\"1\" class=\"dataframe\">\n",
       "  <thead>\n",
       "    <tr style=\"text-align: right;\">\n",
       "      <th></th>\n",
       "      <th>Unnamed: 0</th>\n",
       "      <th>p_nl</th>\n",
       "      <th>h_nl</th>\n",
       "      <th>p_fol</th>\n",
       "      <th>h_fol</th>\n",
       "      <th>label</th>\n",
       "      <th>e_pred</th>\n",
       "      <th>c_pred</th>\n",
       "    </tr>\n",
       "  </thead>\n",
       "  <tbody>\n",
       "    <tr>\n",
       "      <th>0</th>\n",
       "      <td>0</td>\n",
       "      <td>The young boys are playing outdoors and the ma...</td>\n",
       "      <td>There is no boy playing outdoors and there is ...</td>\n",
       "      <td>all x.all y. (YoungBoy(x) &amp; Outdoors(y) -&gt; Pla...</td>\n",
       "      <td>not exists x. (Boy(x) &amp; PlayingOutdoors(x)) &amp; ...</td>\n",
       "      <td>c</td>\n",
       "      <td>False</td>\n",
       "      <td>False</td>\n",
       "    </tr>\n",
       "    <tr>\n",
       "      <th>1</th>\n",
       "      <td>1</td>\n",
       "      <td>A person in a black jacket is doing tricks on ...</td>\n",
       "      <td>A skilled person is riding a bicycle on one wheel</td>\n",
       "      <td>all x. (Person(x) &amp; WearsBlackJacket(x) -&gt; Tri...</td>\n",
       "      <td>all x. all y. (SkilledPerson(x) &amp; Bicycle(y) &amp;...</td>\n",
       "      <td>n</td>\n",
       "      <td>False</td>\n",
       "      <td>False</td>\n",
       "    </tr>\n",
       "    <tr>\n",
       "      <th>2</th>\n",
       "      <td>2</td>\n",
       "      <td>A player is throwing the ball</td>\n",
       "      <td>Two teams are competing in a football match</td>\n",
       "      <td>exists x. (Player(x) &amp; ThrowingBall(x))</td>\n",
       "      <td>exists x. exists y. (Team(x) &amp; Team(y) &amp; Footb...</td>\n",
       "      <td>n</td>\n",
       "      <td>False</td>\n",
       "      <td>False</td>\n",
       "    </tr>\n",
       "    <tr>\n",
       "      <th>3</th>\n",
       "      <td>3</td>\n",
       "      <td>Five children are standing in front of a woode...</td>\n",
       "      <td>Five children are standing in a wooden hut</td>\n",
       "      <td>exists x. exists y. (Child(x) &amp; Child(y) &amp; Woo...</td>\n",
       "      <td>exists x. exists y. exists z. exists w. exists...</td>\n",
       "      <td>n</td>\n",
       "      <td>False</td>\n",
       "      <td>False</td>\n",
       "    </tr>\n",
       "    <tr>\n",
       "      <th>4</th>\n",
       "      <td>4</td>\n",
       "      <td>Few people are eating at red tables in a resta...</td>\n",
       "      <td>A large group of Asian people is eating at a r...</td>\n",
       "      <td>exists x. (Person(x) &amp; EatingAtRedTables(x) &amp; ...</td>\n",
       "      <td>exists x. exists y. (AsianPerson(x) &amp; Group(x)...</td>\n",
       "      <td>n</td>\n",
       "      <td>False</td>\n",
       "      <td>False</td>\n",
       "    </tr>\n",
       "  </tbody>\n",
       "</table>\n",
       "</div>"
      ],
      "text/plain": [
       "   Unnamed: 0                                               p_nl  \\\n",
       "0           0  The young boys are playing outdoors and the ma...   \n",
       "1           1  A person in a black jacket is doing tricks on ...   \n",
       "2           2                      A player is throwing the ball   \n",
       "3           3  Five children are standing in front of a woode...   \n",
       "4           4  Few people are eating at red tables in a resta...   \n",
       "\n",
       "                                                h_nl  \\\n",
       "0  There is no boy playing outdoors and there is ...   \n",
       "1  A skilled person is riding a bicycle on one wheel   \n",
       "2        Two teams are competing in a football match   \n",
       "3         Five children are standing in a wooden hut   \n",
       "4  A large group of Asian people is eating at a r...   \n",
       "\n",
       "                                               p_fol  \\\n",
       "0  all x.all y. (YoungBoy(x) & Outdoors(y) -> Pla...   \n",
       "1  all x. (Person(x) & WearsBlackJacket(x) -> Tri...   \n",
       "2            exists x. (Player(x) & ThrowingBall(x))   \n",
       "3  exists x. exists y. (Child(x) & Child(y) & Woo...   \n",
       "4  exists x. (Person(x) & EatingAtRedTables(x) & ...   \n",
       "\n",
       "                                               h_fol label  e_pred  c_pred  \n",
       "0  not exists x. (Boy(x) & PlayingOutdoors(x)) & ...     c   False   False  \n",
       "1  all x. all y. (SkilledPerson(x) & Bicycle(y) &...     n   False   False  \n",
       "2  exists x. exists y. (Team(x) & Team(y) & Footb...     n   False   False  \n",
       "3  exists x. exists y. exists z. exists w. exists...     n   False   False  \n",
       "4  exists x. exists y. (AsianPerson(x) & Group(x)...     n   False   False  "
      ]
     },
     "execution_count": 19,
     "metadata": {},
     "output_type": "execute_result"
    }
   ],
   "source": [
    "#Load csv with results \n",
    "res_SICK_trial = pd.read_csv ('evaluations/sick_trial_evaluation.csv')\n",
    "res_SICK_trial.head()"
   ]
  },
  {
   "cell_type": "code",
   "execution_count": 20,
   "metadata": {},
   "outputs": [],
   "source": [
    "st_wrong_e, st_wrong_c, st_wrong_n = get_wrong_items(res_SICK_trial)    #st = sick trial\n",
    "st_wrong = pd.concat([st_wrong_e, st_wrong_c, st_wrong_n])"
   ]
  },
  {
   "cell_type": "code",
   "execution_count": 21,
   "metadata": {},
   "outputs": [
    {
     "data": {
      "text/html": [
       "<div>\n",
       "<style scoped>\n",
       "    .dataframe tbody tr th:only-of-type {\n",
       "        vertical-align: middle;\n",
       "    }\n",
       "\n",
       "    .dataframe tbody tr th {\n",
       "        vertical-align: top;\n",
       "    }\n",
       "\n",
       "    .dataframe thead th {\n",
       "        text-align: right;\n",
       "    }\n",
       "</style>\n",
       "<table border=\"1\" class=\"dataframe\">\n",
       "  <thead>\n",
       "    <tr style=\"text-align: right;\">\n",
       "      <th></th>\n",
       "      <th>Unnamed: 0</th>\n",
       "      <th>p_nl</th>\n",
       "      <th>h_nl</th>\n",
       "      <th>p_fol</th>\n",
       "      <th>h_fol</th>\n",
       "      <th>label</th>\n",
       "      <th>e_pred</th>\n",
       "      <th>c_pred</th>\n",
       "    </tr>\n",
       "  </thead>\n",
       "  <tbody>\n",
       "    <tr>\n",
       "      <th>6</th>\n",
       "      <td>6</td>\n",
       "      <td>Two dogs are playing by a tree</td>\n",
       "      <td>Two dogs are playing by a plant</td>\n",
       "      <td>exists x.exists y.exists z. (Dog(x) &amp; Dog(y) &amp;...</td>\n",
       "      <td>exists x. exists y. exists z. (Dog(x) &amp; Dog(y)...</td>\n",
       "      <td>e</td>\n",
       "      <td>False</td>\n",
       "      <td>False</td>\n",
       "    </tr>\n",
       "    <tr>\n",
       "      <th>7</th>\n",
       "      <td>7</td>\n",
       "      <td>A girl in white is dancing</td>\n",
       "      <td>A girl is wearing white clothes and is dancing</td>\n",
       "      <td>all x. (Girl(x) &amp; WearingWhite(x) -&gt; Dancing(x))</td>\n",
       "      <td>exists x. (Girl(x) &amp; WearingWhiteClothes(x) &amp; ...</td>\n",
       "      <td>e</td>\n",
       "      <td>False</td>\n",
       "      <td>False</td>\n",
       "    </tr>\n",
       "    <tr>\n",
       "      <th>12</th>\n",
       "      <td>12</td>\n",
       "      <td>A hiker is on top of the mountain and is doing...</td>\n",
       "      <td>A hiker is on top of the mountain and is dancing</td>\n",
       "      <td>all x. (Hiker(x) -&gt; (OnTopOfMountain(x) &amp; Joyf...</td>\n",
       "      <td>exists x. (Hiker(x) &amp; OnTopOfMountain(x) &amp; Dan...</td>\n",
       "      <td>e</td>\n",
       "      <td>False</td>\n",
       "      <td>False</td>\n",
       "    </tr>\n",
       "    <tr>\n",
       "      <th>18</th>\n",
       "      <td>18</td>\n",
       "      <td>A white and tan dog is running through the tal...</td>\n",
       "      <td>A white and tan dog is running through a field</td>\n",
       "      <td>all x. (Dog(x) &amp; White(x) &amp; Tan(x) -&gt; exists y...</td>\n",
       "      <td>all x. (Dog(x) &amp; White(x) &amp; Tan(x) -&gt; exists y...</td>\n",
       "      <td>e</td>\n",
       "      <td>False</td>\n",
       "      <td>False</td>\n",
       "    </tr>\n",
       "    <tr>\n",
       "      <th>37</th>\n",
       "      <td>37</td>\n",
       "      <td>A group of people is equipped with protective ...</td>\n",
       "      <td>A group of people is equipped with gear used f...</td>\n",
       "      <td>all x. (GroupOfPeople(x) -&gt; EquippedWithProtec...</td>\n",
       "      <td>all x.all y. (Group(x) &amp; Person(y) &amp; UsesGear(...</td>\n",
       "      <td>e</td>\n",
       "      <td>False</td>\n",
       "      <td>False</td>\n",
       "    </tr>\n",
       "    <tr>\n",
       "      <th>...</th>\n",
       "      <td>...</td>\n",
       "      <td>...</td>\n",
       "      <td>...</td>\n",
       "      <td>...</td>\n",
       "      <td>...</td>\n",
       "      <td>...</td>\n",
       "      <td>...</td>\n",
       "      <td>...</td>\n",
       "    </tr>\n",
       "    <tr>\n",
       "      <th>424</th>\n",
       "      <td>424</td>\n",
       "      <td>A blond child is going down a slide and throwi...</td>\n",
       "      <td>A child with dark hair is going down a slide a...</td>\n",
       "      <td>all x. (BlondChild(x) -&gt; (GoingDownSlide(x) &amp; ...</td>\n",
       "      <td>all x. (Child(x) &amp; DarkHair(x) -&gt; (GoingDownSl...</td>\n",
       "      <td>c</td>\n",
       "      <td>False</td>\n",
       "      <td>False</td>\n",
       "    </tr>\n",
       "    <tr>\n",
       "      <th>450</th>\n",
       "      <td>450</td>\n",
       "      <td>No dog is in the sand that is blowing in the wind</td>\n",
       "      <td>A dog is in a sandy area with the sand that is...</td>\n",
       "      <td>all x. (Dog(x) &amp; InSand(x) -&gt; not BlowingInWin...</td>\n",
       "      <td>all x. all y. all z. (Dog(x) &amp; SandyArea(y) &amp; ...</td>\n",
       "      <td>c</td>\n",
       "      <td>False</td>\n",
       "      <td>False</td>\n",
       "    </tr>\n",
       "    <tr>\n",
       "      <th>454</th>\n",
       "      <td>454</td>\n",
       "      <td>A cluster of four brown dogs are playing in a ...</td>\n",
       "      <td>Four dogs are not playing in a grassy area</td>\n",
       "      <td>exists x. exists y. exists z. (Cluster(x) &amp; Do...</td>\n",
       "      <td>exists x. (Dog(x) &amp; not PlayingInGrassyArea(x))</td>\n",
       "      <td>c</td>\n",
       "      <td>False</td>\n",
       "      <td>False</td>\n",
       "    </tr>\n",
       "    <tr>\n",
       "      <th>462</th>\n",
       "      <td>462</td>\n",
       "      <td>A black and white dog with a large branch is s...</td>\n",
       "      <td>A black and white dog with a large branch is r...</td>\n",
       "      <td>all x. (Dog(x) &amp; Black(x) &amp; White(x) &amp; LargeBr...</td>\n",
       "      <td>all x.all y.all z. (Dog(x) &amp; BlackAndWhite(x) ...</td>\n",
       "      <td>c</td>\n",
       "      <td>False</td>\n",
       "      <td>False</td>\n",
       "    </tr>\n",
       "    <tr>\n",
       "      <th>34</th>\n",
       "      <td>34</td>\n",
       "      <td>A few men in a competition are running outside</td>\n",
       "      <td>A few men are running competitions outside</td>\n",
       "      <td>exists x.exists y.exists z. (Man(x) &amp; Man(y) &amp;...</td>\n",
       "      <td>exists x.exists y. (Man(x) &amp; Man(y) &amp; RunningC...</td>\n",
       "      <td>n</td>\n",
       "      <td>True</td>\n",
       "      <td>True</td>\n",
       "    </tr>\n",
       "  </tbody>\n",
       "</table>\n",
       "<p>179 rows × 8 columns</p>\n",
       "</div>"
      ],
      "text/plain": [
       "     Unnamed: 0                                               p_nl  \\\n",
       "6             6                     Two dogs are playing by a tree   \n",
       "7             7                         A girl in white is dancing   \n",
       "12           12  A hiker is on top of the mountain and is doing...   \n",
       "18           18  A white and tan dog is running through the tal...   \n",
       "37           37  A group of people is equipped with protective ...   \n",
       "..          ...                                                ...   \n",
       "424         424  A blond child is going down a slide and throwi...   \n",
       "450         450  No dog is in the sand that is blowing in the wind   \n",
       "454         454  A cluster of four brown dogs are playing in a ...   \n",
       "462         462  A black and white dog with a large branch is s...   \n",
       "34           34     A few men in a competition are running outside   \n",
       "\n",
       "                                                  h_nl  \\\n",
       "6                      Two dogs are playing by a plant   \n",
       "7       A girl is wearing white clothes and is dancing   \n",
       "12    A hiker is on top of the mountain and is dancing   \n",
       "18      A white and tan dog is running through a field   \n",
       "37   A group of people is equipped with gear used f...   \n",
       "..                                                 ...   \n",
       "424  A child with dark hair is going down a slide a...   \n",
       "450  A dog is in a sandy area with the sand that is...   \n",
       "454         Four dogs are not playing in a grassy area   \n",
       "462  A black and white dog with a large branch is r...   \n",
       "34          A few men are running competitions outside   \n",
       "\n",
       "                                                 p_fol  \\\n",
       "6    exists x.exists y.exists z. (Dog(x) & Dog(y) &...   \n",
       "7     all x. (Girl(x) & WearingWhite(x) -> Dancing(x))   \n",
       "12   all x. (Hiker(x) -> (OnTopOfMountain(x) & Joyf...   \n",
       "18   all x. (Dog(x) & White(x) & Tan(x) -> exists y...   \n",
       "37   all x. (GroupOfPeople(x) -> EquippedWithProtec...   \n",
       "..                                                 ...   \n",
       "424  all x. (BlondChild(x) -> (GoingDownSlide(x) & ...   \n",
       "450  all x. (Dog(x) & InSand(x) -> not BlowingInWin...   \n",
       "454  exists x. exists y. exists z. (Cluster(x) & Do...   \n",
       "462  all x. (Dog(x) & Black(x) & White(x) & LargeBr...   \n",
       "34   exists x.exists y.exists z. (Man(x) & Man(y) &...   \n",
       "\n",
       "                                                 h_fol label  e_pred  c_pred  \n",
       "6    exists x. exists y. exists z. (Dog(x) & Dog(y)...     e   False   False  \n",
       "7    exists x. (Girl(x) & WearingWhiteClothes(x) & ...     e   False   False  \n",
       "12   exists x. (Hiker(x) & OnTopOfMountain(x) & Dan...     e   False   False  \n",
       "18   all x. (Dog(x) & White(x) & Tan(x) -> exists y...     e   False   False  \n",
       "37   all x.all y. (Group(x) & Person(y) & UsesGear(...     e   False   False  \n",
       "..                                                 ...   ...     ...     ...  \n",
       "424  all x. (Child(x) & DarkHair(x) -> (GoingDownSl...     c   False   False  \n",
       "450  all x. all y. all z. (Dog(x) & SandyArea(y) & ...     c   False   False  \n",
       "454    exists x. (Dog(x) & not PlayingInGrassyArea(x))     c   False   False  \n",
       "462  all x.all y.all z. (Dog(x) & BlackAndWhite(x) ...     c   False   False  \n",
       "34   exists x.exists y. (Man(x) & Man(y) & RunningC...     n    True    True  \n",
       "\n",
       "[179 rows x 8 columns]"
      ]
     },
     "execution_count": 21,
     "metadata": {},
     "output_type": "execute_result"
    }
   ],
   "source": [
    "st_wrong"
   ]
  },
  {
   "cell_type": "code",
   "execution_count": 22,
   "metadata": {},
   "outputs": [],
   "source": [
    "st_wrong_fol_expr = get_fol_expressions(st_wrong)"
   ]
  },
  {
   "cell_type": "code",
   "execution_count": 23,
   "metadata": {},
   "outputs": [
    {
     "data": {
      "text/plain": [
       "358"
      ]
     },
     "execution_count": 23,
     "metadata": {},
     "output_type": "execute_result"
    }
   ],
   "source": [
    "len(st_wrong_fol_expr)"
   ]
  },
  {
   "cell_type": "code",
   "execution_count": 24,
   "metadata": {},
   "outputs": [
    {
     "name": "stdout",
     "output_type": "stream",
     "text": [
      "365\n",
      "369\n",
      "460\n",
      "460\n",
      "0\n",
      "28\n",
      "41\n",
      "68\n",
      "75\n",
      "153\n"
     ]
    }
   ],
   "source": [
    "st_wrong_free_vars = get_free_vars(st_wrong)"
   ]
  },
  {
   "cell_type": "code",
   "execution_count": 25,
   "metadata": {},
   "outputs": [
    {
     "data": {
      "text/plain": [
       "{365: {Variable('f')},\n",
       " 369: {Variable('z')},\n",
       " 460: {Variable('f')},\n",
       " 0: {Variable('z')},\n",
       " 28: {Variable('y')},\n",
       " 41: {Variable('y')},\n",
       " 68: {Variable('z')},\n",
       " 75: {Variable('y'), Variable('z')},\n",
       " 153: {Variable('z')}}"
      ]
     },
     "execution_count": 25,
     "metadata": {},
     "output_type": "execute_result"
    }
   ],
   "source": [
    "st_wrong_free_vars"
   ]
  },
  {
   "cell_type": "code",
   "execution_count": 26,
   "metadata": {},
   "outputs": [
    {
     "name": "stdout",
     "output_type": "stream",
     "text": [
      "{'TanDog', 'Man', 'Kickboxing', 'HoldingFootball', 'Play', 'Under', 'SingingInto', 'Singing', 'InBikeGear', 'Cat', 'Sitting', 'PlaysPiano', 'Surfer', 'StandingSteadilyInFrontOf', 'HasShirt', 'WalkingInWood', 'PlaysIn', 'Outdoors', 'HappyBoy', 'CuttingOnion', 'Dog', 'Pond', 'PlayingKeyboard', 'Water', 'Slicing', 'Microphone', 'Person', 'Riding', 'Wave', 'Drinking', 'Woman', 'Spectator'}\n"
     ]
    }
   ],
   "source": [
    "all_predicates = []\n",
    "for item in sample_data['sick'].values():\n",
    "    expression = Expression.fromstring(fol2nltk(item))\n",
    "    predicates = [str(p) for p in list(expression.predicates())]\n",
    "    # print(predicates)\n",
    "    all_predicates = all_predicates + predicates\n",
    "    # print(all_predicates)\n",
    "all_predicates = set(all_predicates) \n",
    "print(all_predicates)"
   ]
  },
  {
   "cell_type": "code",
   "execution_count": null,
   "metadata": {},
   "outputs": [],
   "source": []
  }
 ],
 "metadata": {
  "kernelspec": {
   "display_name": "Python 3",
   "language": "python",
   "name": "python3"
  },
  "language_info": {
   "codemirror_mode": {
    "name": "ipython",
    "version": 3
   },
   "file_extension": ".py",
   "mimetype": "text/x-python",
   "name": "python",
   "nbconvert_exporter": "python",
   "pygments_lexer": "ipython3",
   "version": "3.11.5"
  }
 },
 "nbformat": 4,
 "nbformat_minor": 2
}
