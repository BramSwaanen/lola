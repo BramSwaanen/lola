{
 "cells": [
  {
   "cell_type": "code",
   "execution_count": 1,
   "metadata": {},
   "outputs": [],
   "source": [
    "import json\n",
    "with open(\"sample_data.json\",\"r\") as inputfile:\n",
    "    sample_data = json.load(inputfile)"
   ]
  },
  {
   "cell_type": "code",
   "execution_count": 2,
   "metadata": {},
   "outputs": [
    {
     "name": "stdout",
     "output_type": "stream",
     "text": [
      "***sick***\n",
      "A tan dog is playing in the water on the bank of a pond || ∀x∀y∀z (TanDog(x) ∧ Water(y) ∧ Pond(z) → PlaysIn(x, y, z))\n",
      "Some water is being drunk by a cat || ∃x∃y (Water(x) ∧ Cat(y) ∧ Drinking(y, x))\n",
      "A person is playing a keyboard || ∀x (Person(x) ∧ PlayingKeyboard(x))\n",
      "The man is sitting outdoors under a purple umbrella || ∃x (Man(x) ∧ Sitting(x) ∧ Outdoors(x) ∧ Under(x, purple_umbrella))\n",
      "A man with no shirt is holding a football || ∀x (Man(x) ∧ ¬HasShirt(x) → HoldingFootball(x))\n",
      "There is no person in bike gear standing steadily in front of the mountains || ¬∃x (Person(x) ∧ InBikeGear(x) ∧ StandingSteadilyInFrontOf(x, mountains))\n",
      "A woman is slicing a tomato || ∃x (Woman(x) ∧ Slicing(x, tomato))\n",
      "A few people are singing || ∃x∃y∃z (Person(x) ∧ Person(y) ∧ Person(z) ∧ Singing(x) ∧ Singing(y) ∧ Singing(z))\n",
      "The surfer is riding a big wave || ∃x ∃y (Surfer(x) ∧ Wave(y) ∧ Riding(x, y))\n",
      "Two dogs and two people are walking in a wood || ∃x ∃y ∃z ∃w (Dog(x) ∧ Dog(y) ∧ Person(z) ∧ Person(w) ∧ WalkingInWood(x, y, z, w))\n",
      "A man is singing into a microphone || ∃x ∃y (Man(x) ∧ Microphone(y) ∧ SingingInto(x, y))\n",
      "Two people are kickboxing and spectators are not watching || ∀x∀y (Person(x) ∧ Person(y) ∧ Kickboxing(x) → ¬Spectator(y))\n",
      "A woman is cutting an onion || ∃x (Woman(x) ∧ CuttingOnion(x))\n",
      "The play is about a happy boy playing the piano || ∀x (Play(x) → (HappyBoy(x) ∧ PlaysPiano(x)))\n",
      "A person is cutting an onion || ∃x (Person(x) ∧ CuttingOnion(x))\n",
      "***fracas***\n",
      "Bug # 32-985 was blamed for the system failure. || ∃x (Bug(x) ∧ SystemFailure(y) ∧ BlamedFor(x, y))\n",
      "The PC-6082 is as fast as the ITEL-XZ. The PC-6082 is slow. || ∀x ∀y (PC6082(x) ∧ ITELXZ(y) → (Fast(x) ∧ Fast(y) ∧ Slow(x)))\n",
      "An Irishman won a Nobel prize. || ∃x (Irishman(x) ∧ WonNobelPrize(x))\n",
      "Last week I already knew that when, in a month's time, Smith would discover that she had been duped she would be furious. || ∀x (LastWeek(x) ∧ MonthsTime(x) ∧ Smith(x) ∧ DiscoveredDuped(x) → Furious(x))\n",
      "Bill suggested to Frank's boss that they should go to the meeting together, and Carl to Alan's wife. || ∀x∀y∀z (Bill(x) ∧ Frank(y) ∧ Alan(z) → (SuggestedTo(x, y, z) ∧ ¬SuggestedTo(x, z, y)))\n",
      "The ITEL-XZ is fast. || Fast(ITELXZ)\n",
      "Mary used her workstation. || UsedWorkstation(mary)\n",
      "Bill owns a slow red car. || ∃x (Car(x) ∧ Owns(bill, x) ∧ Slow(x) ∧ Red(x))\n",
      "Bill went to Berlin by car. || WentTo(Bill, Berlin, Car)\n",
      "Everyone at the meeting voted for a new chairman. || ∀x (PersonAtMeeting(x) → VotedForNewChairman(x))\n",
      "Every representative was at the meeting. || ∀x (Representative(x) → ∃y (Meeting(y) ∧ Attended(x, y)))\n",
      "Most Europeans are resident in Europe. || ∀x (European(x) → ResidentIn(x, Europe))\n",
      "ITEL has sent most of the reports Smith needs. They are on her desk. || ∀x∀y (ITEL(x) ∧ Smith(y) ∧ NeedsReports(y) → SentReports(x, y))\n",
      "John owns a red car. Bill owns a fast one. || ∀x ∀y (John(x) ∧ Owns(x, RedCar) ∧ Bill(y) ∧ Owns(y, FastCar))\n",
      "Bill bought a car. || ∃x ∃y (Bill(x) ∧ Car(y) ∧ Bought(x, y))\n",
      "***hans***\n",
      "The author admired the doctors . || ∀x∀y (Author(x) ∧ Doctor(y) → Admired(x, y))\n",
      "The lawyer presented in the library shouted . || ∃x (Lawyer(x) ∧ PresentedInLibrary(x) ∧ Shouted(x))\n",
      "The student that the doctors recognized recommended the tourists . || ∀x∀y∀z (Student(x) ∧ Doctor(y) ∧ Tourist(z) ∧ Recognized(y, x) → Recommended(y, z))\n",
      "The senator resigned . || Resigned(Senator)\n",
      "If the presidents recognized the professor , the secretaries saw the judges . || ∀x∀y∀z (President(x) ∧ Professor(y) ∧ Judge(z) ∧ Recognized(x, y) → Saw(x, z))\n",
      "The lawyer recommended the judges who encouraged the scientists . || ∀x∀y∀z (Lawyer(x) ∧ Judge(y) ∧ Scientist(z) ∧ Encourages(y, z) → Recommends(x, y))\n",
      "The banker encouraged the judge . || ∀x∀y (Banker(x) ∧ Judge(y) → Encouraged(x, y))\n",
      "The student by the professor resigned . || ∃x ∃y (Student(x) ∧ Professor(y) ∧ Resigned(x, y))\n",
      "The athletes who thanked the author encouraged the bankers . || ∀x∀y∀z (Athlete(x) ∧ Author(y) ∧ Banker(z) ∧ Thanked(x, y) → Encourages(x, z))\n",
      "The doctor who the judge admired introduced the bankers . || ∀x∀y∀z (Doctor(x) ∧ Judge(y) ∧ Banker(z) ∧ Admired(y, x) → Introduced(x, z))\n",
      "The scientists introduced the judges . || ∀x∀y (Scientist(x) ∧ Judge(y) → Introduced(x, y))\n",
      "The athletes admired the scientist . || ∀x∀y (Athlete(x) ∧ Scientist(y) → Admires(x, y))\n",
      "Hopefully the athlete supported the students . || ∀x∀y (Athlete(x) ∧ Student(y) → Supported(x, y))\n",
      "Though the athletes avoided the senator , the judges slept . || ∀x∀y∀z (Athlete(x) ∧ Senator(y) ∧ Judge(z) → (Avoids(x, y) ∧ Sleeps(z)))\n",
      "The judges believed the athletes recognized the tourists . || ∀x∀y∀z (Judge(x) ∧ Athlete(y) ∧ Tourist(z) → BelievedRecognized(x, y, z))\n",
      "***syllogisms***\n",
      "No engineers are logicians || ¬∃x (Engineer(x) ∧ Logician(x))\n",
      "No logicians are engineers || ¬∃x (Logician(x) ∧ Engineer(x))\n",
      "Some logicians are non engineers || ∃x (Logician(x) ∧ ¬Engineer(x))\n",
      "All engineers are logicians || ∀x (Engineer(x) → Logician(x))\n",
      "Some engineers are logicians || ∃x (Engineer(x) ∧ Logician(x))\n",
      "Some logicians are engineers || ∃x (Logician(x) ∧ Engineer(x))\n",
      "All logicians are engineers || ∀x (Logician(x) → Engineer(x))\n"
     ]
    }
   ],
   "source": [
    "for dataset in sample_data.keys():\n",
    "    print(f\"***{dataset}***\")\n",
    "    for k, v in sample_data[dataset].items():\n",
    "        print(k,\"||\", v)"
   ]
  },
  {
   "cell_type": "code",
   "execution_count": 3,
   "metadata": {},
   "outputs": [],
   "source": [
    "# Imports \n",
    "import re\n",
    "from nltk.sem.logic import Expression, Variable "
   ]
  },
  {
   "cell_type": "code",
   "execution_count": 4,
   "metadata": {},
   "outputs": [],
   "source": [
    "# Convert FOL with classic symbols to NLTK readable FOL \n",
    "def fol2nltk(s:str) -> str:\n",
    "    s = re.sub('∧', '&', s)\n",
    "    s = re.sub('∃(\\S*)', 'exists \\\\1.', s) #counts all chars after quantifier until there is white space as the var  \n",
    "    s = re.sub('∀(\\S*)', 'all \\\\1.', s)\n",
    "    return s "
   ]
  },
  {
   "cell_type": "code",
   "execution_count": 5,
   "metadata": {},
   "outputs": [
    {
     "name": "stdout",
     "output_type": "stream",
     "text": [
      "all x. (Person(x) & PlayingKeyboard(x))\n"
     ]
    }
   ],
   "source": [
    "# Get a test sentence from the sample data set \n",
    "test_sent = sample_data['sick']['A person is playing a keyboard']\n",
    "test_sent = fol2nltk(test_sent)\n",
    "print(test_sent)"
   ]
  },
  {
   "cell_type": "code",
   "execution_count": 6,
   "metadata": {},
   "outputs": [],
   "source": [
    "# read string of expression into NLTK \n",
    "#! Expression.fromstring errors when:\n",
    "    # unmatched brackets, \n",
    "    # var is not of form \"letter(+any number)\"\n",
    " \n",
    "# test_expr = read_expr(test_sent) #option with expression from sample data set \n",
    "test_expr = Expression.fromstring('exists x. (Red(book) & (all y. Ball(y)) | House(z))') #option with custom expression \n"
   ]
  },
  {
   "cell_type": "code",
   "execution_count": 7,
   "metadata": {},
   "outputs": [
    {
     "name": "stdout",
     "output_type": "stream",
     "text": [
      "<class 'nltk.sem.logic.ExistsExpression'>\n",
      "['__and__', '__call__', '__class__', '__delattr__', '__dict__', '__dir__', '__doc__', '__eq__', '__format__', '__ge__', '__getattribute__', '__getstate__', '__gt__', '__hash__', '__init__', '__init_subclass__', '__le__', '__lt__', '__module__', '__ne__', '__neg__', '__new__', '__or__', '__reduce__', '__reduce_ex__', '__repr__', '__setattr__', '__sizeof__', '__str__', '__subclasshook__', '__weakref__', '_logic_parser', '_set_type', '_type_checking_logic_parser', 'alpha_convert', 'applyto', 'constants', 'equiv', 'findtype', 'free', 'fromstring', 'getQuantifier', 'make_VariableExpression', 'negate', 'normalize', 'predicates', 'replace', 'simplify', 'substitute_bindings', 'term', 'type', 'typecheck', 'variable', 'variables', 'visit', 'visit_structured']\n"
     ]
    }
   ],
   "source": [
    "# info about expression object \n",
    "print(type(test_expr))\n",
    "print(dir(test_expr))"
   ]
  },
  {
   "cell_type": "code",
   "execution_count": 8,
   "metadata": {},
   "outputs": [
    {
     "name": "stdout",
     "output_type": "stream",
     "text": [
      "************ applyto ************\n",
      "Help on function applyto in nltk.sem.logic.Expression:\n",
      "\n",
      "nltk.sem.logic.Expression.applyto = applyto(self, other)\n",
      "\n",
      "************ constants ************\n",
      "Help on function constants in nltk.sem.logic.Expression:\n",
      "\n",
      "nltk.sem.logic.Expression.constants = constants(self)\n",
      "    Return a set of individual constants (non-predicates).\n",
      "    :return: set of ``Variable`` objects\n",
      "\n",
      "************ equiv ************\n",
      "Help on function equiv in nltk.sem.logic.Expression:\n",
      "\n",
      "nltk.sem.logic.Expression.equiv = equiv(self, other, prover=None)\n",
      "    Check for logical equivalence.\n",
      "    Pass the expression (self <-> other) to the theorem prover.\n",
      "    If the prover says it is valid, then the self and other are equal.\n",
      "    \n",
      "    :param other: an ``Expression`` to check equality against\n",
      "    :param prover: a ``nltk.inference.api.Prover``\n",
      "\n",
      "************ findtype ************\n",
      "Help on function findtype in nltk.sem.logic.Expression:\n",
      "\n",
      "nltk.sem.logic.Expression.findtype = findtype(self, variable)\n",
      "    Find the type of the given variable as it is used in this expression.\n",
      "    For example, finding the type of \"P\" in \"P(x) & Q(x,y)\" yields \"<e,t>\"\n",
      "    \n",
      "    :param variable: Variable\n",
      "\n",
      "************ free ************\n",
      "Help on function free in nltk.sem.logic.Expression:\n",
      "\n",
      "nltk.sem.logic.Expression.free = free(self)\n",
      "    Return a set of all the free (non-bound) variables.  This includes\n",
      "    both individual and predicate variables, but not constants.\n",
      "    :return: set of ``Variable`` objects\n",
      "\n",
      "************ fromstring ************\n",
      "Help on method fromstring in nltk.sem.logic.Expression:\n",
      "\n",
      "nltk.sem.logic.Expression.fromstring = fromstring(s, type_check=False, signature=None) method of builtins.type instance\n",
      "\n",
      "************ make_VariableExpression ************\n",
      "Help on function make_VariableExpression in nltk.sem.logic.Expression:\n",
      "\n",
      "nltk.sem.logic.Expression.make_VariableExpression = make_VariableExpression(self, variable)\n",
      "\n",
      "************ negate ************\n",
      "Help on function negate in nltk.sem.logic.Expression:\n",
      "\n",
      "nltk.sem.logic.Expression.negate = negate(self)\n",
      "    If this is a negated expression, remove the negation.\n",
      "    Otherwise add a negation.\n",
      "\n",
      "************ normalize ************\n",
      "Help on function normalize in nltk.sem.logic.Expression:\n",
      "\n",
      "nltk.sem.logic.Expression.normalize = normalize(self, newvars=None)\n",
      "    Rename auto-generated unique variables\n",
      "\n",
      "************ predicates ************\n",
      "Help on function predicates in nltk.sem.logic.Expression:\n",
      "\n",
      "nltk.sem.logic.Expression.predicates = predicates(self)\n",
      "    Return a set of predicates (constants, not variables).\n",
      "    :return: set of ``Variable`` objects\n",
      "\n",
      "************ replace ************\n",
      "Help on function replace in nltk.sem.logic.Expression:\n",
      "\n",
      "nltk.sem.logic.Expression.replace = replace(self, variable, expression, replace_bound=False, alpha_convert=True)\n",
      "    Replace every instance of 'variable' with 'expression'\n",
      "    :param variable: ``Variable`` The variable to replace\n",
      "    :param expression: ``Expression`` The expression with which to replace it\n",
      "    :param replace_bound: bool Should bound variables be replaced?\n",
      "    :param alpha_convert: bool Alpha convert automatically to avoid name clashes?\n",
      "\n",
      "************ simplify ************\n",
      "Help on function simplify in nltk.sem.logic.Expression:\n",
      "\n",
      "nltk.sem.logic.Expression.simplify = simplify(self)\n",
      "    :return: beta-converted version of this expression\n",
      "\n",
      "************ substitute_bindings ************\n",
      "Help on function substitute_bindings in nltk.sem.logic.Expression:\n",
      "\n",
      "nltk.sem.logic.Expression.substitute_bindings = substitute_bindings(self, bindings)\n",
      "    :return: The object that is obtained by replacing\n",
      "        each variable bound by ``bindings`` with its values.\n",
      "        Aliases are already resolved. (maybe?)\n",
      "    :rtype: (any)\n",
      "\n",
      "************ typecheck ************\n",
      "Help on function typecheck in nltk.sem.logic.Expression:\n",
      "\n",
      "nltk.sem.logic.Expression.typecheck = typecheck(self, signature=None)\n",
      "    Infer and check types.  Raise exceptions if necessary.\n",
      "    \n",
      "    :param signature: dict that maps variable names to types (or string\n",
      "        representations of types)\n",
      "    :return: the signature, plus any additional type mappings\n",
      "\n",
      "************ variables ************\n",
      "Help on function variables in nltk.sem.logic.Expression:\n",
      "\n",
      "nltk.sem.logic.Expression.variables = variables(self)\n",
      "    Return a set of all the variables for binding substitution.\n",
      "    The variables returned include all free (non-bound) individual\n",
      "    variables and any variable starting with '?' or '@'.\n",
      "    :return: set of ``Variable`` objects\n",
      "\n",
      "************ visit ************\n",
      "Help on function visit in nltk.sem.logic.Expression:\n",
      "\n",
      "nltk.sem.logic.Expression.visit = visit(self, function, combinator)\n",
      "    Recursively visit subexpressions.  Apply 'function' to each\n",
      "    subexpression and pass the result of each function application\n",
      "    to the 'combinator' for aggregation:\n",
      "    \n",
      "        return combinator(map(function, self.subexpressions))\n",
      "    \n",
      "    Bound variables are neither applied upon by the function nor given to\n",
      "    the combinator.\n",
      "    :param function: ``Function<Expression,T>`` to call on each subexpression\n",
      "    :param combinator: ``Function<list<T>,R>`` to combine the results of the\n",
      "    function calls\n",
      "    :return: result of combination ``R``\n",
      "\n",
      "************ visit_structured ************\n",
      "Help on function visit_structured in nltk.sem.logic.Expression:\n",
      "\n",
      "nltk.sem.logic.Expression.visit_structured = visit_structured(self, function, combinator)\n",
      "    Recursively visit subexpressions.  Apply 'function' to each\n",
      "    subexpression and pass the result of each function application\n",
      "    to the 'combinator' for aggregation.  The combinator must have\n",
      "    the same signature as the constructor.  The function is not\n",
      "    applied to bound variables, but they are passed to the\n",
      "    combinator.\n",
      "    :param function: ``Function`` to call on each subexpression\n",
      "    :param combinator: ``Function`` with the same signature as the\n",
      "    constructor, to combine the results of the function calls\n",
      "    :return: result of combination\n",
      "\n"
     ]
    }
   ],
   "source": [
    "#Get some documentation of available functions of an expressions object \n",
    "for func in dir(Expression):\n",
    "    if not func.startswith('_'):\n",
    "        print(f\"************ {func} ************\")\n",
    "        help('nltk.sem.logic.Expression.' + func)\n",
    "        "
   ]
  },
  {
   "cell_type": "code",
   "execution_count": 9,
   "metadata": {},
   "outputs": [
    {
     "name": "stdout",
     "output_type": "stream",
     "text": [
      "free variables in \"exists x.((Red(book) & all y.Ball(y)) | House(z))\": {Variable('z')}\n",
      "\n",
      "quantifiers in \"exists x.((Red(book) & all y.Ball(y)) | House(z))\": exists\n",
      "\n",
      "Constants in \"exists x.((Red(book) & all y.Ball(y)) | House(z))\": {Variable('book')}\n",
      "\n",
      "Predicates in \"exists x.((Red(book) & all y.Ball(y)) | House(z))\": {Variable('Red'), Variable('Ball'), Variable('House')}\n"
     ]
    }
   ],
   "source": [
    "# Get info on an expression \n",
    "\n",
    "#get all free variables as set of nltk.sem.logic.Variable objects \n",
    "free_vars = test_expr.free()\n",
    "print(f'free variables in \"{test_expr}\": {free_vars}')\n",
    "print()\n",
    "\n",
    "# Get main(?) quantifier\n",
    "quantifiers = test_expr.getQuantifier()\n",
    "print(f'quantifiers in \"{test_expr}\": {quantifiers}')\n",
    "print()\n",
    "\n",
    "# Get all constants as set of nltk.sem.logic.Variable objects \n",
    "constants = test_expr.constants()\n",
    "print(f'Constants in \"{test_expr}\": {constants}')\n",
    "print()\n",
    "\n",
    "# Get all predicates as set of nltk.sem.logic.Variable objects \n",
    "predicates = test_expr.predicates()\n",
    "print(f'Predicates in \"{test_expr}\": {predicates}')"
   ]
  },
  {
   "cell_type": "code",
   "execution_count": 10,
   "metadata": {},
   "outputs": [
    {
     "name": "stdout",
     "output_type": "stream",
     "text": [
      "Changed \"exists x.((Red(book) & all y.Ball(y)) | House(z))\" to \"exists x.((Blue(book) & all y.Ball(y)) | House(z))\"\n"
     ]
    }
   ],
   "source": [
    "# Replace predicates (and more?) in an expression \n",
    "old_pred = Variable('Red')\n",
    "new_pred = Expression.fromstring('Blue')\n",
    "new_test_expr = test_expr.replace(old_pred, new_pred)\n",
    "print(f'Changed \"{test_expr}\" to \"{new_test_expr}\"')"
   ]
  },
  {
   "cell_type": "code",
   "execution_count": 11,
   "metadata": {},
   "outputs": [
    {
     "name": "stdout",
     "output_type": "stream",
     "text": [
      "{Variable('z')}\n",
      "Changed \"exists x.((Red(book) & all y.Ball(y)) | House(z))\" to \"exists x.((Red(book) & all y.Ball(y)) | House(c))\"\n"
     ]
    }
   ],
   "source": [
    "#Replace names of FREE variables \n",
    "bindings = {\n",
    "    Variable('x'): Expression.fromstring('a'),\n",
    "    Variable('y'): Expression.fromstring('b'),\n",
    "    Variable('z'): Expression.fromstring('c')\n",
    "}\n",
    "print(test_expr.variables())\n",
    "new_test_expr2 = test_expr.substitute_bindings(bindings)\n",
    "print(f'Changed \"{test_expr}\" to \"{new_test_expr2}\"')"
   ]
  },
  {
   "cell_type": "code",
   "execution_count": 18,
   "metadata": {},
   "outputs": [
    {
     "name": "stdout",
     "output_type": "stream",
     "text": [
      "The et types of the expression exists x.((Red(book) & all y.Ball(y)) | House(z)) are: {'book': e, 'Red': <e,t>, 'y': e, 'Ball': <e,t>, 'z': e, 'House': <e,t>}\n",
      "The et type of Red in the expression exists x.((Red(book) & all y.Ball(y)) | House(z)) is: <e,t>\n"
     ]
    }
   ],
   "source": [
    "# Get et types of the sentence \n",
    "\n",
    "#all et types returnd as: dict{'word': et-type}\n",
    "et_types = test_expr.typecheck()\n",
    "print(f\"The et types of the expression {test_expr} are: {et_types}\")\n",
    "\n",
    "# get et-type of specific variable \n",
    "var = Variable('Red')\n",
    "et_type_var = test_expr.findtype(var)\n",
    "print(f\"The et type of {var} in the expression {test_expr} is: {et_type_var}\")"
   ]
  },
  {
   "cell_type": "code",
   "execution_count": null,
   "metadata": {},
   "outputs": [],
   "source": []
  }
 ],
 "metadata": {
  "kernelspec": {
   "display_name": "Python 3",
   "language": "python",
   "name": "python3"
  },
  "language_info": {
   "codemirror_mode": {
    "name": "ipython",
    "version": 3
   },
   "file_extension": ".py",
   "mimetype": "text/x-python",
   "name": "python",
   "nbconvert_exporter": "python",
   "pygments_lexer": "ipython3",
   "version": "3.11.5"
  }
 },
 "nbformat": 4,
 "nbformat_minor": 2
}
