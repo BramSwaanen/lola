{
 "cells": [
  {
   "cell_type": "markdown",
   "metadata": {},
   "source": [
    "# Make modifications to the translations"
   ]
  },
  {
   "cell_type": "code",
   "execution_count": 2,
   "metadata": {},
   "outputs": [
    {
     "name": "stderr",
     "output_type": "stream",
     "text": [
      "[nltk_data] Downloading package wordnet to /home/bram/nltk_data...\n",
      "[nltk_data]   Package wordnet is already up-to-date!\n",
      "[nltk_data] Downloading package wordnet to /home/bram/nltk_data...\n",
      "[nltk_data]   Package wordnet is already up-to-date!\n"
     ]
    }
   ],
   "source": [
    "import json\n",
    "from prepocessing import modifying"
   ]
  },
  {
   "cell_type": "code",
   "execution_count": 3,
   "metadata": {},
   "outputs": [],
   "source": [
    "# import original dictionary\n",
    "original_dict_path = \"dictionaries/syllogisms/syllogism-3-pred-dict.json\"\n",
    "\n",
    "with open(original_dict_path,\"r\") as file:\n",
    "    original_dict = json.load(file)"
   ]
  },
  {
   "cell_type": "markdown",
   "metadata": {},
   "source": [
    "## Exists to all [E2A]\n",
    "We replace all instance of an exists quantifier with a universal quantifier "
   ]
  },
  {
   "cell_type": "code",
   "execution_count": 4,
   "metadata": {},
   "outputs": [],
   "source": [
    "# create dictionary to have the modified translation\n",
    "a2e_dict = {}"
   ]
  },
  {
   "cell_type": "code",
   "execution_count": 5,
   "metadata": {},
   "outputs": [],
   "source": [
    "for k,v in original_dict.items():\n",
    "    a2e_translation = modifying.all2exists(v)\n",
    "    a2e_dict[k] = a2e_translation"
   ]
  },
  {
   "cell_type": "code",
   "execution_count": null,
   "metadata": {},
   "outputs": [],
   "source": [
    "#  Compare original dictionary with modified dictionary \n",
    "for k in original_dict.keys():\n",
    "    print(k)\n",
    "    print(original_dict[k])\n",
    "    print(a2e_dict[k])\n",
    "    print(\"**********************************************************\")"
   ]
  },
  {
   "cell_type": "code",
   "execution_count": 66,
   "metadata": {},
   "outputs": [],
   "source": [
    "mod_dict_path = \"mod_dictionaries/[a2e]syllogism-3-pred-dict.json\"\n",
    "with open(mod_dict_path,\"w\") as outfile:\n",
    "    json.dump(a2e_dict,outfile)"
   ]
  },
  {
   "cell_type": "markdown",
   "metadata": {},
   "source": [
    "## Implication to conjunction "
   ]
  },
  {
   "cell_type": "code",
   "execution_count": 6,
   "metadata": {},
   "outputs": [],
   "source": [
    "# create dictionary to have the modified translation\n",
    "i2c_a2e_dict = {}"
   ]
  },
  {
   "cell_type": "code",
   "execution_count": 7,
   "metadata": {},
   "outputs": [],
   "source": [
    "for k,v in a2e_dict.items():\n",
    "    i2c_a2e_translation = modifying.imp2con(v)\n",
    "    i2c_a2e_dict[k] = i2c_a2e_translation"
   ]
  },
  {
   "cell_type": "code",
   "execution_count": null,
   "metadata": {},
   "outputs": [],
   "source": [
    "#  Compare original dictionary with modified dictionary \n",
    "for k in a2e_dict.keys():\n",
    "    print(k)\n",
    "    print(a2e_dict[k])\n",
    "    print(i2c_a2e_dict[k])\n",
    "    print(\"**********************************************************\")"
   ]
  },
  {
   "cell_type": "code",
   "execution_count": 69,
   "metadata": {},
   "outputs": [],
   "source": [
    "mod_dict_path = \"mod_dictionaries/[i2c_a2e]syllogism-3-pred-dict.json\"\n",
    "with open(mod_dict_path,\"w\") as outfile:\n",
    "    json.dump(i2c_a2e_dict,outfile)"
   ]
  },
  {
   "cell_type": "markdown",
   "metadata": {},
   "source": [
    "## If existential i2c"
   ]
  },
  {
   "cell_type": "code",
   "execution_count": 71,
   "metadata": {},
   "outputs": [],
   "source": [
    "# create dictionary to have the modified translation\n",
    "e_i2c_dict = {}"
   ]
  },
  {
   "cell_type": "code",
   "execution_count": 72,
   "metadata": {},
   "outputs": [],
   "source": [
    "for k,v in original_dict.items():\n",
    "    e_i2c_translation = modifying.e_i2c(v)\n",
    "    e_i2c_dict[k] = e_i2c_translation"
   ]
  },
  {
   "cell_type": "code",
   "execution_count": null,
   "metadata": {},
   "outputs": [],
   "source": [
    "#  Compare original dictionary with modified dictionary \n",
    "for k in original_dict.keys():\n",
    "    print(k)\n",
    "    print(original_dict[k])\n",
    "    print(e_i2c_dict[k])\n",
    "    print(\"**********************************************************\")"
   ]
  },
  {
   "cell_type": "code",
   "execution_count": 73,
   "metadata": {},
   "outputs": [],
   "source": [
    "mod_dict_path = \"mod_dictionaries/[e_i2c]syllogism-3-pred-dict.json\"\n",
    "with open(mod_dict_path,\"w\") as outfile:\n",
    "    json.dump(e_i2c_dict,outfile)"
   ]
  },
  {
   "cell_type": "markdown",
   "metadata": {},
   "source": [
    "## Split predicates like verbs "
   ]
  },
  {
   "cell_type": "code",
   "execution_count": 56,
   "metadata": {},
   "outputs": [],
   "source": [
    "# create dictionary to have the modified translation\n",
    "split_dict = {}"
   ]
  },
  {
   "cell_type": "code",
   "execution_count": 57,
   "metadata": {},
   "outputs": [],
   "source": [
    "for k,v in e_i2c_dict.items():\n",
    "    split_translation = modifying.split_verb(v)\n",
    "    split_dict[k] = split_translation"
   ]
  },
  {
   "cell_type": "code",
   "execution_count": null,
   "metadata": {},
   "outputs": [],
   "source": [
    "#  Compare original dictionary with modified dictionary \n",
    "for k in original_dict.keys():\n",
    "    print(k)\n",
    "    print(original_dict[k])\n",
    "    print(split_dict[k])\n",
    "    print(\"**********************************************************\")"
   ]
  },
  {
   "cell_type": "code",
   "execution_count": 58,
   "metadata": {},
   "outputs": [],
   "source": [
    "mod_dict_path = \"mod_dictionaries/[e_i2c_split_verb]full_splitted_prems_fracas_dict.json\"\n",
    "with open(mod_dict_path,\"w\") as outfile:\n",
    "    json.dump(split_dict,outfile)"
   ]
  },
  {
   "cell_type": "markdown",
   "metadata": {},
   "source": [
    "## Split predicates like AdjNoun"
   ]
  },
  {
   "cell_type": "code",
   "execution_count": 8,
   "metadata": {},
   "outputs": [],
   "source": [
    "# create dictionary to have the modified translation\n",
    "split_adj_dict = {}"
   ]
  },
  {
   "cell_type": "code",
   "execution_count": 9,
   "metadata": {},
   "outputs": [],
   "source": [
    "for k,v in i2c_a2e_dict.items():\n",
    "    split_translation = modifying.split_adj(v)\n",
    "    split_adj_dict[k] = split_translation"
   ]
  },
  {
   "cell_type": "code",
   "execution_count": null,
   "metadata": {},
   "outputs": [],
   "source": [
    "#  Compare original dictionary with modified dictionary \n",
    "for k in original_dict.keys():\n",
    "    print(k)\n",
    "    print(original_dict[k])\n",
    "    print(e_i2c_split_adj_dict[k])\n",
    "    print(\"**********************************************************\")"
   ]
  },
  {
   "cell_type": "code",
   "execution_count": 10,
   "metadata": {},
   "outputs": [],
   "source": [
    "mod_dict_path = \"mod_dictionaries/[a2e_i2c_split_adj]syllogism-3-pred-dict.json\"\n",
    "with open(mod_dict_path,\"w\") as outfile:\n",
    "    json.dump(split_adj_dict,outfile)"
   ]
  },
  {
   "cell_type": "code",
   "execution_count": null,
   "metadata": {},
   "outputs": [],
   "source": []
  }
 ],
 "metadata": {
  "kernelspec": {
   "display_name": "Python 3 (ipykernel)",
   "language": "python",
   "name": "python3"
  },
  "language_info": {
   "codemirror_mode": {
    "name": "ipython",
    "version": 3
   },
   "file_extension": ".py",
   "mimetype": "text/x-python",
   "name": "python",
   "nbconvert_exporter": "python",
   "pygments_lexer": "ipython3",
   "version": "3.10.12"
  }
 },
 "nbformat": 4,
 "nbformat_minor": 4
}
