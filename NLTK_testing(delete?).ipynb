{
 "cells": [
  {
   "cell_type": "code",
   "execution_count": 3,
   "metadata": {},
   "outputs": [],
   "source": [
    "import json\n",
    "with open(\"sample_data.json\",\"r\") as inputfile:\n",
    "    sample_data = json.load(inputfile)"
   ]
  },
  {
   "cell_type": "code",
   "execution_count": 4,
   "metadata": {},
   "outputs": [
    {
     "name": "stdout",
     "output_type": "stream",
     "text": [
      "***sick***\n",
      "A tan dog is playing in the water on the bank of a pond || ∀x∀y∀z (TanDog(x) ∧ Water(y) ∧ Pond(z) → PlaysIn(x, y, z))\n",
      "Some water is being drunk by a cat || ∃x∃y (Water(x) ∧ Cat(y) ∧ Drinking(y, x))\n",
      "A person is playing a keyboard || ∀x (Person(x) ∧ PlayingKeyboard(x))\n",
      "The man is sitting outdoors under a purple umbrella || ∃x (Man(x) ∧ Sitting(x) ∧ Outdoors(x) ∧ Under(x, purple_umbrella))\n",
      "A man with no shirt is holding a football || ∀x (Man(x) ∧ ¬HasShirt(x) → HoldingFootball(x))\n",
      "There is no person in bike gear standing steadily in front of the mountains || ¬∃x (Person(x) ∧ InBikeGear(x) ∧ StandingSteadilyInFrontOf(x, mountains))\n",
      "A woman is slicing a tomato || ∃x (Woman(x) ∧ Slicing(x, tomato))\n",
      "A few people are singing || ∃x∃y∃z (Person(x) ∧ Person(y) ∧ Person(z) ∧ Singing(x) ∧ Singing(y) ∧ Singing(z))\n",
      "The surfer is riding a big wave || ∃x ∃y (Surfer(x) ∧ Wave(y) ∧ Riding(x, y))\n",
      "Two dogs and two people are walking in a wood || ∃x ∃y ∃z ∃w (Dog(x) ∧ Dog(y) ∧ Person(z) ∧ Person(w) ∧ WalkingInWood(x, y, z, w))\n",
      "A man is singing into a microphone || ∃x ∃y (Man(x) ∧ Microphone(y) ∧ SingingInto(x, y))\n",
      "Two people are kickboxing and spectators are not watching || ∀x∀y (Person(x) ∧ Person(y) ∧ Kickboxing(x) → ¬Spectator(y))\n",
      "A woman is cutting an onion || ∃x (Woman(x) ∧ CuttingOnion(x))\n",
      "The play is about a happy boy playing the piano || ∀x (Play(x) → (HappyBoy(x) ∧ PlaysPiano(x)))\n",
      "A person is cutting an onion || ∃x (Person(x) ∧ CuttingOnion(x))\n",
      "***fracas***\n",
      "Bug # 32-985 was blamed for the system failure. || ∃x (Bug(x) ∧ SystemFailure(y) ∧ BlamedFor(x, y))\n",
      "The PC-6082 is as fast as the ITEL-XZ. The PC-6082 is slow. || ∀x ∀y (PC6082(x) ∧ ITELXZ(y) → (Fast(x) ∧ Fast(y) ∧ Slow(x)))\n",
      "An Irishman won a Nobel prize. || ∃x (Irishman(x) ∧ WonNobelPrize(x))\n",
      "Last week I already knew that when, in a month's time, Smith would discover that she had been duped she would be furious. || ∀x (LastWeek(x) ∧ MonthsTime(x) ∧ Smith(x) ∧ DiscoveredDuped(x) → Furious(x))\n",
      "Bill suggested to Frank's boss that they should go to the meeting together, and Carl to Alan's wife. || ∀x∀y∀z (Bill(x) ∧ Frank(y) ∧ Alan(z) → (SuggestedTo(x, y, z) ∧ ¬SuggestedTo(x, z, y)))\n",
      "The ITEL-XZ is fast. || Fast(ITELXZ)\n",
      "Mary used her workstation. || UsedWorkstation(mary)\n",
      "Bill owns a slow red car. || ∃x (Car(x) ∧ Owns(bill, x) ∧ Slow(x) ∧ Red(x))\n",
      "Bill went to Berlin by car. || WentTo(Bill, Berlin, Car)\n",
      "Everyone at the meeting voted for a new chairman. || ∀x (PersonAtMeeting(x) → VotedForNewChairman(x))\n",
      "Every representative was at the meeting. || ∀x (Representative(x) → ∃y (Meeting(y) ∧ Attended(x, y)))\n",
      "Most Europeans are resident in Europe. || ∀x (European(x) → ResidentIn(x, Europe))\n",
      "ITEL has sent most of the reports Smith needs. They are on her desk. || ∀x∀y (ITEL(x) ∧ Smith(y) ∧ NeedsReports(y) → SentReports(x, y))\n",
      "John owns a red car. Bill owns a fast one. || ∀x ∀y (John(x) ∧ Owns(x, RedCar) ∧ Bill(y) ∧ Owns(y, FastCar))\n",
      "Bill bought a car. || ∃x ∃y (Bill(x) ∧ Car(y) ∧ Bought(x, y))\n",
      "***hans***\n",
      "The author admired the doctors . || ∀x∀y (Author(x) ∧ Doctor(y) → Admired(x, y))\n",
      "The lawyer presented in the library shouted . || ∃x (Lawyer(x) ∧ PresentedInLibrary(x) ∧ Shouted(x))\n",
      "The student that the doctors recognized recommended the tourists . || ∀x∀y∀z (Student(x) ∧ Doctor(y) ∧ Tourist(z) ∧ Recognized(y, x) → Recommended(y, z))\n",
      "The senator resigned . || Resigned(Senator)\n",
      "If the presidents recognized the professor , the secretaries saw the judges . || ∀x∀y∀z (President(x) ∧ Professor(y) ∧ Judge(z) ∧ Recognized(x, y) → Saw(x, z))\n",
      "The lawyer recommended the judges who encouraged the scientists . || ∀x∀y∀z (Lawyer(x) ∧ Judge(y) ∧ Scientist(z) ∧ Encourages(y, z) → Recommends(x, y))\n",
      "The banker encouraged the judge . || ∀x∀y (Banker(x) ∧ Judge(y) → Encouraged(x, y))\n",
      "The student by the professor resigned . || ∃x ∃y (Student(x) ∧ Professor(y) ∧ Resigned(x, y))\n",
      "The athletes who thanked the author encouraged the bankers . || ∀x∀y∀z (Athlete(x) ∧ Author(y) ∧ Banker(z) ∧ Thanked(x, y) → Encourages(x, z))\n",
      "The doctor who the judge admired introduced the bankers . || ∀x∀y∀z (Doctor(x) ∧ Judge(y) ∧ Banker(z) ∧ Admired(y, x) → Introduced(x, z))\n",
      "The scientists introduced the judges . || ∀x∀y (Scientist(x) ∧ Judge(y) → Introduced(x, y))\n",
      "The athletes admired the scientist . || ∀x∀y (Athlete(x) ∧ Scientist(y) → Admires(x, y))\n",
      "Hopefully the athlete supported the students . || ∀x∀y (Athlete(x) ∧ Student(y) → Supported(x, y))\n",
      "Though the athletes avoided the senator , the judges slept . || ∀x∀y∀z (Athlete(x) ∧ Senator(y) ∧ Judge(z) → (Avoids(x, y) ∧ Sleeps(z)))\n",
      "The judges believed the athletes recognized the tourists . || ∀x∀y∀z (Judge(x) ∧ Athlete(y) ∧ Tourist(z) → BelievedRecognized(x, y, z))\n",
      "***syllogisms***\n",
      "No engineers are logicians || ¬∃x (Engineer(x) ∧ Logician(x))\n",
      "No logicians are engineers || ¬∃x (Logician(x) ∧ Engineer(x))\n",
      "Some logicians are non engineers || ∃x (Logician(x) ∧ ¬Engineer(x))\n",
      "All engineers are logicians || ∀x (Engineer(x) → Logician(x))\n",
      "Some engineers are logicians || ∃x (Engineer(x) ∧ Logician(x))\n",
      "Some logicians are engineers || ∃x (Logician(x) ∧ Engineer(x))\n",
      "All logicians are engineers || ∀x (Logician(x) → Engineer(x))\n"
     ]
    }
   ],
   "source": [
    "for dataset in sample_data.keys():\n",
    "    print(f\"***{dataset}***\")\n",
    "    for k, v in sample_data[dataset].items():\n",
    "        print(k,\"||\", v)"
   ]
  },
  {
   "cell_type": "code",
   "execution_count": 9,
   "metadata": {},
   "outputs": [],
   "source": [
    "# Imports \n",
    "import re\n",
    "from nltk.sem.logic import Expression, Variable\n",
    "from prepocessing import preprocessing"
   ]
  },
  {
   "cell_type": "code",
   "execution_count": 10,
   "metadata": {},
   "outputs": [
    {
     "name": "stdout",
     "output_type": "stream",
     "text": [
      "all x. (Person(x) & PlayingKeyboard(x))\n"
     ]
    }
   ],
   "source": [
    "# Get a test sentence from the sample data set \n",
    "test_sent = sample_data['sick']['A person is playing a keyboard']\n",
    "test_sent = preprocessing.fol2nltk(test_sent)\n",
    "print(test_sent)"
   ]
  },
  {
   "cell_type": "code",
   "execution_count": 11,
   "metadata": {},
   "outputs": [],
   "source": [
    "# read string of expression into NLTK \n",
    "#! Expression.fromstring errors when:\n",
    "    # unmatched brackets, \n",
    "    # var is not of form \"letter(+any number)\"\n",
    " \n",
    "# test_expr = Expression.fromstring(test_sent) #option with expression from sample data set \n",
    "test_expr = Expression.fromstring('exists x. all y. (Red(c) & (Blue(x)) | House(y))') #option with custom expression \n"
   ]
  },
  {
   "cell_type": "code",
   "execution_count": 12,
   "metadata": {},
   "outputs": [
    {
     "data": {
      "text/plain": [
       "<ExistsExpression exists x.all y.((Red(c) & Blue(x)) | House(y))>"
      ]
     },
     "execution_count": 12,
     "metadata": {},
     "output_type": "execute_result"
    }
   ],
   "source": [
    "test_expr"
   ]
  },
  {
   "cell_type": "code",
   "execution_count": 13,
   "metadata": {},
   "outputs": [
    {
     "name": "stdout",
     "output_type": "stream",
     "text": [
      "<class 'nltk.sem.logic.ExistsExpression'>\n",
      "['__and__', '__call__', '__class__', '__delattr__', '__dict__', '__dir__', '__doc__', '__eq__', '__format__', '__ge__', '__getattribute__', '__getstate__', '__gt__', '__hash__', '__init__', '__init_subclass__', '__le__', '__lt__', '__module__', '__ne__', '__neg__', '__new__', '__or__', '__reduce__', '__reduce_ex__', '__repr__', '__setattr__', '__sizeof__', '__str__', '__subclasshook__', '__weakref__', '_logic_parser', '_set_type', '_type_checking_logic_parser', 'alpha_convert', 'applyto', 'constants', 'equiv', 'findtype', 'free', 'fromstring', 'getQuantifier', 'make_VariableExpression', 'negate', 'normalize', 'predicates', 'replace', 'simplify', 'substitute_bindings', 'term', 'type', 'typecheck', 'variable', 'variables', 'visit', 'visit_structured']\n"
     ]
    }
   ],
   "source": [
    "# info about expression object \n",
    "print(type(test_expr))\n",
    "print(dir(test_expr))"
   ]
  },
  {
   "cell_type": "code",
   "execution_count": 14,
   "metadata": {},
   "outputs": [
    {
     "name": "stdout",
     "output_type": "stream",
     "text": [
      "************ applyto ************\n",
      "Help on function applyto in nltk.sem.logic.Expression:\n",
      "\n",
      "nltk.sem.logic.Expression.applyto = applyto(self, other)\n",
      "\n",
      "************ constants ************\n",
      "Help on function constants in nltk.sem.logic.Expression:\n",
      "\n",
      "nltk.sem.logic.Expression.constants = constants(self)\n",
      "    Return a set of individual constants (non-predicates).\n",
      "    :return: set of ``Variable`` objects\n",
      "\n",
      "************ equiv ************\n",
      "Help on function equiv in nltk.sem.logic.Expression:\n",
      "\n",
      "nltk.sem.logic.Expression.equiv = equiv(self, other, prover=None)\n",
      "    Check for logical equivalence.\n",
      "    Pass the expression (self <-> other) to the theorem prover.\n",
      "    If the prover says it is valid, then the self and other are equal.\n",
      "    \n",
      "    :param other: an ``Expression`` to check equality against\n",
      "    :param prover: a ``nltk.inference.api.Prover``\n",
      "\n",
      "************ findtype ************\n",
      "Help on function findtype in nltk.sem.logic.Expression:\n",
      "\n",
      "nltk.sem.logic.Expression.findtype = findtype(self, variable)\n",
      "    Find the type of the given variable as it is used in this expression.\n",
      "    For example, finding the type of \"P\" in \"P(x) & Q(x,y)\" yields \"<e,t>\"\n",
      "    \n",
      "    :param variable: Variable\n",
      "\n",
      "************ free ************\n",
      "Help on function free in nltk.sem.logic.Expression:\n",
      "\n",
      "nltk.sem.logic.Expression.free = free(self)\n",
      "    Return a set of all the free (non-bound) variables.  This includes\n",
      "    both individual and predicate variables, but not constants.\n",
      "    :return: set of ``Variable`` objects\n",
      "\n",
      "************ fromstring ************\n",
      "Help on method fromstring in nltk.sem.logic.Expression:\n",
      "\n",
      "nltk.sem.logic.Expression.fromstring = fromstring(s, type_check=False, signature=None) method of builtins.type instance\n",
      "\n",
      "************ make_VariableExpression ************\n",
      "Help on function make_VariableExpression in nltk.sem.logic.Expression:\n",
      "\n",
      "nltk.sem.logic.Expression.make_VariableExpression = make_VariableExpression(self, variable)\n",
      "\n",
      "************ negate ************\n",
      "Help on function negate in nltk.sem.logic.Expression:\n",
      "\n",
      "nltk.sem.logic.Expression.negate = negate(self)\n",
      "    If this is a negated expression, remove the negation.\n",
      "    Otherwise add a negation.\n",
      "\n",
      "************ normalize ************\n",
      "Help on function normalize in nltk.sem.logic.Expression:\n",
      "\n",
      "nltk.sem.logic.Expression.normalize = normalize(self, newvars=None)\n",
      "    Rename auto-generated unique variables\n",
      "\n",
      "************ predicates ************\n",
      "Help on function predicates in nltk.sem.logic.Expression:\n",
      "\n",
      "nltk.sem.logic.Expression.predicates = predicates(self)\n",
      "    Return a set of predicates (constants, not variables).\n",
      "    :return: set of ``Variable`` objects\n",
      "\n",
      "************ replace ************\n",
      "Help on function replace in nltk.sem.logic.Expression:\n",
      "\n",
      "nltk.sem.logic.Expression.replace = replace(self, variable, expression, replace_bound=False, alpha_convert=True)\n",
      "    Replace every instance of 'variable' with 'expression'\n",
      "    :param variable: ``Variable`` The variable to replace\n",
      "    :param expression: ``Expression`` The expression with which to replace it\n",
      "    :param replace_bound: bool Should bound variables be replaced?\n",
      "    :param alpha_convert: bool Alpha convert automatically to avoid name clashes?\n",
      "\n",
      "************ simplify ************\n",
      "Help on function simplify in nltk.sem.logic.Expression:\n",
      "\n",
      "nltk.sem.logic.Expression.simplify = simplify(self)\n",
      "    :return: beta-converted version of this expression\n",
      "\n",
      "************ substitute_bindings ************\n",
      "Help on function substitute_bindings in nltk.sem.logic.Expression:\n",
      "\n",
      "nltk.sem.logic.Expression.substitute_bindings = substitute_bindings(self, bindings)\n",
      "    :return: The object that is obtained by replacing\n",
      "        each variable bound by ``bindings`` with its values.\n",
      "        Aliases are already resolved. (maybe?)\n",
      "    :rtype: (any)\n",
      "\n",
      "************ typecheck ************\n",
      "Help on function typecheck in nltk.sem.logic.Expression:\n",
      "\n",
      "nltk.sem.logic.Expression.typecheck = typecheck(self, signature=None)\n",
      "    Infer and check types.  Raise exceptions if necessary.\n",
      "    \n",
      "    :param signature: dict that maps variable names to types (or string\n",
      "        representations of types)\n",
      "    :return: the signature, plus any additional type mappings\n",
      "\n",
      "************ variables ************\n",
      "Help on function variables in nltk.sem.logic.Expression:\n",
      "\n",
      "nltk.sem.logic.Expression.variables = variables(self)\n",
      "    Return a set of all the variables for binding substitution.\n",
      "    The variables returned include all free (non-bound) individual\n",
      "    variables and any variable starting with '?' or '@'.\n",
      "    :return: set of ``Variable`` objects\n",
      "\n",
      "************ visit ************\n",
      "Help on function visit in nltk.sem.logic.Expression:\n",
      "\n",
      "nltk.sem.logic.Expression.visit = visit(self, function, combinator)\n",
      "    Recursively visit subexpressions.  Apply 'function' to each\n",
      "    subexpression and pass the result of each function application\n",
      "    to the 'combinator' for aggregation:\n",
      "    \n",
      "        return combinator(map(function, self.subexpressions))\n",
      "    \n",
      "    Bound variables are neither applied upon by the function nor given to\n",
      "    the combinator.\n",
      "    :param function: ``Function<Expression,T>`` to call on each subexpression\n",
      "    :param combinator: ``Function<list<T>,R>`` to combine the results of the\n",
      "    function calls\n",
      "    :return: result of combination ``R``\n",
      "\n",
      "************ visit_structured ************\n",
      "Help on function visit_structured in nltk.sem.logic.Expression:\n",
      "\n",
      "nltk.sem.logic.Expression.visit_structured = visit_structured(self, function, combinator)\n",
      "    Recursively visit subexpressions.  Apply 'function' to each\n",
      "    subexpression and pass the result of each function application\n",
      "    to the 'combinator' for aggregation.  The combinator must have\n",
      "    the same signature as the constructor.  The function is not\n",
      "    applied to bound variables, but they are passed to the\n",
      "    combinator.\n",
      "    :param function: ``Function`` to call on each subexpression\n",
      "    :param combinator: ``Function`` with the same signature as the\n",
      "    constructor, to combine the results of the function calls\n",
      "    :return: result of combination\n",
      "\n"
     ]
    }
   ],
   "source": [
    "#Get some documentation of available functions of an expressions object \n",
    "for func in dir(Expression):\n",
    "    if not func.startswith('_'):\n",
    "        print(f\"************ {func} ************\")\n",
    "        help('nltk.sem.logic.Expression.' + func)\n",
    "        "
   ]
  },
  {
   "cell_type": "code",
   "execution_count": 15,
   "metadata": {},
   "outputs": [
    {
     "name": "stdout",
     "output_type": "stream",
     "text": [
      "free variables in \"exists x.all y.((Red(c) & Blue(x)) | House(y))\": {Variable('c')}\n",
      "\n",
      "quantifiers in \"exists x.all y.((Red(c) & Blue(x)) | House(y))\": exists\n",
      "\n",
      "Constants in \"exists x.all y.((Red(c) & Blue(x)) | House(y))\": set()\n",
      "\n",
      "Predicates in \"exists x.all y.((Red(c) & Blue(x)) | House(y))\": {Variable('House'), Variable('Blue'), Variable('Red')}\n"
     ]
    }
   ],
   "source": [
    "# Get info on an expression \n",
    "\n",
    "#get all free variables as set of nltk.sem.logic.Variable objects \n",
    "free_vars = test_expr.free()\n",
    "print(f'free variables in \"{test_expr}\": {free_vars}')\n",
    "print()\n",
    "\n",
    "# Get main(?) quantifier\n",
    "quantifiers = test_expr.getQuantifier()\n",
    "print(f'quantifiers in \"{test_expr}\": {quantifiers}')\n",
    "print()\n",
    "\n",
    "# Get all constants as set of nltk.sem.logic.Variable objects \n",
    "constants = test_expr.constants()\n",
    "print(f'Constants in \"{test_expr}\": {constants}')\n",
    "print()\n",
    "\n",
    "# Get all predicates as set of nltk.sem.logic.Variable objects \n",
    "predicates = test_expr.predicates()\n",
    "print(f'Predicates in \"{test_expr}\": {predicates}')"
   ]
  },
  {
   "cell_type": "code",
   "execution_count": 16,
   "metadata": {},
   "outputs": [
    {
     "name": "stdout",
     "output_type": "stream",
     "text": [
      "4\n"
     ]
    }
   ],
   "source": [
    "if free_vars:\n",
    "    print(4)"
   ]
  },
  {
   "cell_type": "code",
   "execution_count": 17,
   "metadata": {},
   "outputs": [
    {
     "name": "stdout",
     "output_type": "stream",
     "text": [
      "Changed \"exists x.all y.((Red(c) & Blue(x)) | House(y))\" to \"exists x.all y.((Blue(c) & Blue(x)) | House(y))\"\n"
     ]
    }
   ],
   "source": [
    "# Replace predicates (and more?) in an expression \n",
    "old_pred = Variable('Red')\n",
    "new_pred = Expression.fromstring('Blue')\n",
    "new_test_expr = test_expr.replace(old_pred, new_pred)\n",
    "print(f'Changed \"{test_expr}\" to \"{new_test_expr}\"')"
   ]
  },
  {
   "cell_type": "code",
   "execution_count": 18,
   "metadata": {},
   "outputs": [
    {
     "name": "stdout",
     "output_type": "stream",
     "text": [
      "{Variable('c')}\n",
      "Changed \"exists x.all y.((Red(c) & Blue(x)) | House(y))\" to \"exists x.all y.((Red(c) & Blue(x)) | House(y))\"\n"
     ]
    }
   ],
   "source": [
    "#Replace names of FREE variables \n",
    "bindings = {\n",
    "    Variable('x'): Expression.fromstring('a'),\n",
    "    Variable('y'): Expression.fromstring('b'),\n",
    "    Variable('z'): Expression.fromstring('c')\n",
    "}\n",
    "print(test_expr.variables())\n",
    "new_test_expr2 = test_expr.substitute_bindings(bindings)\n",
    "print(f'Changed \"{test_expr}\" to \"{new_test_expr2}\"')"
   ]
  },
  {
   "cell_type": "code",
   "execution_count": 19,
   "metadata": {},
   "outputs": [
    {
     "name": "stdout",
     "output_type": "stream",
     "text": [
      "The et types of the expression exists x.all y.((Red(c) & Blue(x)) | House(y)) are: {'c': e, 'Red': <e,t>, 'x': e, 'Blue': <e,t>, 'y': e, 'House': <e,t>}\n",
      "The et type of Red in the expression exists x.all y.((Red(c) & Blue(x)) | House(y)) is: <e,t>\n"
     ]
    }
   ],
   "source": [
    "# Get et types of the sentence \n",
    "\n",
    "#all et types returnd as: dict{'word': et-type}\n",
    "et_types = test_expr.typecheck()\n",
    "print(f\"The et types of the expression {test_expr} are: {et_types}\")\n",
    "\n",
    "# get et-type of specific variable \n",
    "var = Variable('Red')\n",
    "et_type_var = test_expr.findtype(var)\n",
    "print(f\"The et type of {var} in the expression {test_expr} is: {et_type_var}\")"
   ]
  },
  {
   "cell_type": "code",
   "execution_count": 22,
   "metadata": {},
   "outputs": [
    {
     "name": "stdout",
     "output_type": "stream",
     "text": [
      "{'Singing', 'Water', 'CuttingOnion', 'Woman', 'Kickboxing', 'HasShirt', 'Slicing', 'WalkingInWood', 'Person', 'Man', 'TanDog', 'PlayingKeyboard', 'StandingSteadilyInFrontOf', 'Wave', 'PlaysIn', 'Surfer', 'Outdoors', 'PlaysPiano', 'InBikeGear', 'Spectator', 'Sitting', 'Pond', 'Cat', 'Microphone', 'Drinking', 'SingingInto', 'Play', 'Under', 'HoldingFootball', 'HappyBoy', 'Riding', 'Dog'}\n"
     ]
    }
   ],
   "source": [
    "#Get all predicates in a specific data set\n",
    "\n",
    "all_predicates = []\n",
    "for item in sample_data['sick'].values():\n",
    "    expression = Expression.fromstring(preprocessing.fol2nltk(item))\n",
    "    predicates = [str(p) for p in list(expression.predicates())]\n",
    "    # print(predicates)\n",
    "    all_predicates = all_predicates + predicates\n",
    "    # print(all_predicates)\n",
    "all_predicates = set(all_predicates) \n",
    "print(all_predicates)\n"
   ]
  },
  {
   "cell_type": "code",
   "execution_count": 21,
   "metadata": {},
   "outputs": [
    {
     "name": "stdout",
     "output_type": "stream",
     "text": [
      "[]\n"
     ]
    }
   ],
   "source": [
    "#split predicates into first word + the rest \n",
    "new_predicates = []\n",
    "for p in all_predicates:\n",
    "    parts = re.findall('[A-Z][^A-Z]*', p)\n",
    "    split_p = [parts[0]]\n",
    "    if len(parts) > 1:\n",
    "        second_pred =\"\"\n",
    "        for part in parts[1:]:\n",
    "            second_pred = second_pred + part \n",
    "        split_p.append(second_pred)\n",
    "    new_predicates += split_p\n",
    "print(new_predicates)\n",
    "\n",
    "# test_expr = Expression.fromstring('exist x. HoldingFootball(x)')\n",
    "# old_pred = Variable('HoldingFootball')\n",
    "# new_pred = Expression.fromstring('Holding(x, y) & Football(y)')\n",
    "# new_test_expr = test_expr.replace(old_pred, new_pred)\n",
    "# print(f'Changed \"{test_expr}\" to \"{new_test_expr}\"')"
   ]
  },
  {
   "cell_type": "code",
   "execution_count": 23,
   "metadata": {},
   "outputs": [
    {
     "name": "stdout",
     "output_type": "stream",
     "text": [
      "['Holding', ['Football', 'Blue']]\n"
     ]
    }
   ],
   "source": [
    "import re\n",
    "# split predicates \n",
    "result = re.findall('[A-Z][^A-Z]*', 'HoldingFootballBlue')\n",
    "result = [result[0], result[1:]]\n",
    "print(result)"
   ]
  },
  {
   "cell_type": "code",
   "execution_count": 25,
   "metadata": {},
   "outputs": [
    {
     "name": "stdout",
     "output_type": "stream",
     "text": [
      "{'Singing', 'Water', 'CuttingOnion', 'Woman', 'Kickboxing', 'HasShirt', 'Slicing', 'WalkingInWood', 'Person', 'Man', 'TanDog', 'PlayingKeyboard', 'StandingSteadilyInFrontOf', 'Wave', 'PlaysIn', 'Surfer', 'Outdoors', 'PlaysPiano', 'InBikeGear', 'Spectator', 'Sitting', 'Pond', 'Cat', 'Microphone', 'Drinking', 'SingingInto', 'Play', 'Under', 'HoldingFootball', 'HappyBoy', 'Riding', 'Dog'}\n"
     ]
    }
   ],
   "source": [
    "all_predicates = []\n",
    "for item in sample_data['sick'].values():\n",
    "    expression = Expression.fromstring(preprocessing.fol2nltk(item))\n",
    "    predicates = [str(p) for p in list(expression.predicates())]\n",
    "    # print(predicates)\n",
    "    all_predicates = all_predicates + predicates\n",
    "    # print(all_predicates)\n",
    "all_predicates = set(all_predicates) \n",
    "print(all_predicates)"
   ]
  },
  {
   "cell_type": "markdown",
   "metadata": {},
   "source": [
    "## LK testing "
   ]
  },
  {
   "cell_type": "code",
   "execution_count": 26,
   "metadata": {},
   "outputs": [
    {
     "name": "stdout",
     "output_type": "stream",
     "text": [
      "['alle', 'blauw', 'eenhoorns', 'hebben', 'haar']\n",
      "['hebben', 'staarten', 'koeien']\n",
      "('alle', 'hebben')\n",
      "('alle', 'staarten')\n",
      "('alle', 'koeien')\n",
      "('blauw', 'hebben')\n",
      "('blauw', 'staarten')\n",
      "('blauw', 'koeien')\n",
      "('eenhoorns', 'hebben')\n",
      "('eenhoorns', 'staarten')\n",
      "('eenhoorns', 'koeien')\n",
      "('hebben', 'hebben')\n",
      "('hebben', 'staarten')\n",
      "('hebben', 'koeien')\n",
      "('haar', 'hebben')\n",
      "('haar', 'staarten')\n",
      "('haar', 'koeien')\n"
     ]
    }
   ],
   "source": [
    "premise = list(set(\"alle eenhoorns hebben blauw haar\".split()))\n",
    "hypo = list(set(\"koeien hebben staarten\".split()))\n",
    "print(premise)\n",
    "print(hypo)\n",
    "import itertools\n",
    "for i in itertools.product(premise, hypo):\n",
    "    print(i)"
   ]
  },
  {
   "cell_type": "code",
   "execution_count": 27,
   "metadata": {},
   "outputs": [
    {
     "name": "stderr",
     "output_type": "stream",
     "text": [
      "[nltk_data] Downloading package wordnet to /Users/jip/nltk_data...\n",
      "[nltk_data]   Package wordnet is already up-to-date!\n"
     ]
    }
   ],
   "source": [
    "import itertools\n",
    "import nltk\n",
    "\n",
    "## Note: use this block if you get \"error loading wordnet ... SSL:CERTIFICATE_VERIFY_FAILED ...\"\"\n",
    "import ssl\n",
    "try:\n",
    "    _create_unverified_https_context = ssl._create_unverified_context\n",
    "except AttributeError:\n",
    "    pass\n",
    "else:\n",
    "    ssl._create_default_https_context = _create_unverified_https_context\n",
    "##########\n",
    "    \n",
    "nltk.download('wordnet')\n",
    "from nltk.corpus import wordnet as wn"
   ]
  },
  {
   "cell_type": "code",
   "execution_count": 28,
   "metadata": {},
   "outputs": [
    {
     "name": "stdout",
     "output_type": "stream",
     "text": [
      "Synset('sofa.n.01')\n",
      "Synset('sofa.n.01')\n"
     ]
    }
   ],
   "source": [
    "print(wn.synsets(\"couch\")[0])\n",
    "print(wn.synsets(\"sofa\")[0])"
   ]
  },
  {
   "cell_type": "code",
   "execution_count": 29,
   "metadata": {},
   "outputs": [
    {
     "data": {
      "text/plain": [
       "[Synset('animal.n.01')]"
      ]
     },
     "execution_count": 29,
     "metadata": {},
     "output_type": "execute_result"
    }
   ],
   "source": [
    "wn.synsets(\"animal\")[0].lowest_common_hypernyms(wn.synsets(\"cat\")[0])\n"
   ]
  },
  {
   "cell_type": "code",
   "execution_count": 30,
   "metadata": {},
   "outputs": [
    {
     "name": "stdout",
     "output_type": "stream",
     "text": [
      "[Synset('feline.n.01'), Synset('carnivore.n.01'), Synset('placental.n.01')]\n"
     ]
    }
   ],
   "source": [
    "hyper_cat = []\n",
    "for hyp in wn.synsets(\"cat\")[0].hypernyms():\n",
    "    hyper_cat.append(hyp)\n",
    "    for hyp2 in hyp.hypernyms():\n",
    "        hyper_cat.append(hyp2)\n",
    "        for hyp3 in hyp2.hypernyms():\n",
    "            hyper_cat.append(hyp3)\n",
    "\n",
    "print(hyper_cat)"
   ]
  },
  {
   "cell_type": "code",
   "execution_count": 31,
   "metadata": {},
   "outputs": [
    {
     "name": "stdout",
     "output_type": "stream",
     "text": [
      "[Synset('acrodont.n.01'), Synset('adult.n.02'), Synset('biped.n.01'), Synset('captive.n.02'), Synset('chordate.n.01'), Synset('creepy-crawly.n.01'), Synset('critter.n.01'), Synset('darter.n.02'), Synset('domestic_animal.n.01'), Synset('embryo.n.02'), Synset('feeder.n.06'), Synset('female.n.01'), Synset('fictional_animal.n.01'), Synset('game.n.04'), Synset('giant.n.01'), Synset('herbivore.n.01'), Synset('hexapod.n.01'), Synset('homeotherm.n.01'), Synset('insectivore.n.02'), Synset('invertebrate.n.01'), Synset('larva.n.01'), Synset('male.n.01'), Synset('marine_animal.n.01'), Synset('mate.n.03'), Synset('metazoan.n.01'), Synset('migrator.n.02'), Synset('molter.n.01'), Synset('mutant.n.02'), Synset('omnivore.n.02'), Synset('peeper.n.03'), Synset('pest.n.04'), Synset('pet.n.01'), Synset('pleurodont.n.01'), Synset('poikilotherm.n.01'), Synset('predator.n.02'), Synset('prey.n.02'), Synset('racer.n.03'), Synset('range_animal.n.01'), Synset('scavenger.n.03'), Synset('stayer.n.01'), Synset('stunt.n.02'), Synset('survivor.n.03'), Synset('thoroughbred.n.03'), Synset('varmint.n.02'), Synset('work_animal.n.01'), Synset('young.n.01'), Synset('zooplankton.n.01')]\n"
     ]
    }
   ],
   "source": [
    "hypo_animal = []\n",
    "for hyp in wn.synsets(\"animal\")[0].hyponyms():\n",
    "    hypo_animal.append(hyp)\n",
    "    # for hyp2 in hyp.hyponyms():\n",
    "    #     hypo_animal.append(hyp2)\n",
    "    #     for hyp3 in hyp2.hyponyms():\n",
    "    #         hypo_animal.append(hyp3)\n",
    "\n",
    "print(hypo_animal)"
   ]
  },
  {
   "cell_type": "code",
   "execution_count": 32,
   "metadata": {},
   "outputs": [
    {
     "data": {
      "text/plain": [
       "[Synset('mammal.n.01')]"
      ]
     },
     "execution_count": 32,
     "metadata": {},
     "output_type": "execute_result"
    }
   ],
   "source": [
    "# wn.synsets(\"cat\")[0].hypernyms()\n",
    "wn.synsets(\"placental\")[0].hypernyms()"
   ]
  },
  {
   "cell_type": "code",
   "execution_count": 33,
   "metadata": {},
   "outputs": [
    {
     "name": "stdout",
     "output_type": "stream",
     "text": [
      "cat is an animal\n"
     ]
    }
   ],
   "source": [
    "hypercat = set([i for i in wn.synsets(\"cat\")[0].closure(lambda s:s.hypernyms())])\n",
    "if wn.synsets(\"animal\")[0] in hypercat:\n",
    "    print(\"cat is an animal\")"
   ]
  },
  {
   "cell_type": "code",
   "execution_count": 34,
   "metadata": {},
   "outputs": [
    {
     "data": {
      "text/plain": [
       "[Synset('acrodont.n.01'),\n",
       " Synset('adult.n.02'),\n",
       " Synset('biped.n.01'),\n",
       " Synset('captive.n.02'),\n",
       " Synset('chordate.n.01'),\n",
       " Synset('creepy-crawly.n.01'),\n",
       " Synset('critter.n.01'),\n",
       " Synset('darter.n.02'),\n",
       " Synset('domestic_animal.n.01'),\n",
       " Synset('embryo.n.02'),\n",
       " Synset('feeder.n.06'),\n",
       " Synset('female.n.01'),\n",
       " Synset('fictional_animal.n.01'),\n",
       " Synset('game.n.04'),\n",
       " Synset('giant.n.01'),\n",
       " Synset('herbivore.n.01'),\n",
       " Synset('hexapod.n.01'),\n",
       " Synset('homeotherm.n.01'),\n",
       " Synset('insectivore.n.02'),\n",
       " Synset('invertebrate.n.01'),\n",
       " Synset('larva.n.01'),\n",
       " Synset('male.n.01'),\n",
       " Synset('marine_animal.n.01'),\n",
       " Synset('mate.n.03'),\n",
       " Synset('metazoan.n.01'),\n",
       " Synset('migrator.n.02'),\n",
       " Synset('molter.n.01'),\n",
       " Synset('mutant.n.02'),\n",
       " Synset('omnivore.n.02'),\n",
       " Synset('peeper.n.03'),\n",
       " Synset('pest.n.04'),\n",
       " Synset('pet.n.01'),\n",
       " Synset('pleurodont.n.01'),\n",
       " Synset('poikilotherm.n.01'),\n",
       " Synset('predator.n.02'),\n",
       " Synset('prey.n.02'),\n",
       " Synset('racer.n.03'),\n",
       " Synset('range_animal.n.01'),\n",
       " Synset('scavenger.n.03'),\n",
       " Synset('stayer.n.01'),\n",
       " Synset('stunt.n.02'),\n",
       " Synset('survivor.n.03'),\n",
       " Synset('thoroughbred.n.03'),\n",
       " Synset('varmint.n.02'),\n",
       " Synset('work_animal.n.01'),\n",
       " Synset('young.n.01'),\n",
       " Synset('zooplankton.n.01')]"
      ]
     },
     "execution_count": 34,
     "metadata": {},
     "output_type": "execute_result"
    }
   ],
   "source": [
    "wn.synsets(\"animal\")[0].hyponyms()"
   ]
  },
  {
   "cell_type": "code",
   "execution_count": 35,
   "metadata": {},
   "outputs": [
    {
     "data": {
      "text/plain": [
       "[Lemma('sofa.n.01.sofa'), Lemma('sofa.n.01.couch'), Lemma('sofa.n.01.lounge')]"
      ]
     },
     "execution_count": 35,
     "metadata": {},
     "output_type": "execute_result"
    }
   ],
   "source": [
    "wn.synsets(\"couch\")[0].lemmas()"
   ]
  },
  {
   "cell_type": "code",
   "execution_count": 1,
   "metadata": {},
   "outputs": [
    {
     "name": "stderr",
     "output_type": "stream",
     "text": [
      "[nltk_data] Downloading package wordnet to /Users/jip/nltk_data...\n",
      "[nltk_data]   Package wordnet is already up-to-date!\n"
     ]
    },
    {
     "data": {
      "text/plain": [
       "['all x. all y. (Blue(x, y) -> Color(x, y))',\n",
       " 'all x. all y. (Sofas(x, y) -> Couches(x, y))',\n",
       " 'all x. all y. (Couches(x, y) -> Sofas(x, y))']"
      ]
     },
     "execution_count": 1,
     "metadata": {},
     "output_type": "execute_result"
    }
   ],
   "source": [
    "from lexical_knowledge import get_hypo_syn_lk\n",
    "\n",
    "get_hypo_syn_lk(\"all x.Sofas(x, y) & Blue(x, y)\", \"all x. Couches(x, y) & Color(x, y)\")"
   ]
  },
  {
   "cell_type": "code",
   "execution_count": 80,
   "metadata": {},
   "outputs": [
    {
     "name": "stdout",
     "output_type": "stream",
     "text": [
      "['x', 'y', 'z']\n"
     ]
    }
   ],
   "source": [
    "args = (re.findall(f\"Sofas\\((.*?)\\)\", \"all x.Sofas(x, y, z) & Blue(x)\"))[0].split(\", \")\n",
    "print(args)"
   ]
  },
  {
   "cell_type": "code",
   "execution_count": 81,
   "metadata": {},
   "outputs": [
    {
     "data": {
      "text/plain": [
       "'x, y, z'"
      ]
     },
     "execution_count": 81,
     "metadata": {},
     "output_type": "execute_result"
    }
   ],
   "source": [
    "\", \".join(args)"
   ]
  },
  {
   "cell_type": "code",
   "execution_count": 74,
   "metadata": {},
   "outputs": [
    {
     "data": {
      "text/plain": [
       "<AndExpression (all x y z.Blue(x) & Blue(z) & Blue(y))>"
      ]
     },
     "execution_count": 74,
     "metadata": {},
     "output_type": "execute_result"
    }
   ],
   "source": [
    "Expression.fromstring(\"all x. all y. all z. Blue(x) & Blue(z) & Blue(y)\")"
   ]
  },
  {
   "cell_type": "code",
   "execution_count": null,
   "metadata": {},
   "outputs": [],
   "source": []
  }
 ],
 "metadata": {
  "kernelspec": {
   "display_name": "Python 3",
   "language": "python",
   "name": "python3"
  },
  "language_info": {
   "codemirror_mode": {
    "name": "ipython",
    "version": 3
   },
   "file_extension": ".py",
   "mimetype": "text/x-python",
   "name": "python",
   "nbconvert_exporter": "python",
   "pygments_lexer": "ipython3",
   "version": "3.11.5"
  }
 },
 "nbformat": 4,
 "nbformat_minor": 2
}
